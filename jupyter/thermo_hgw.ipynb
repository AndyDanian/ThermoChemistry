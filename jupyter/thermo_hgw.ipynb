{
 "cells": [
  {
   "cell_type": "code",
   "execution_count": 11,
   "metadata": {},
   "outputs": [],
   "source": [
    "from pathlib import Path\n",
    "from glob import glob\n",
    "\n",
    "import pandas as pd\n",
    "import numpy as np\n",
    "\n",
    "from ase import io, Atoms, Atom\n",
    "from pmutt.statmech import StatMech, trans, vib, rot, elec\n",
    "\n",
    "# interactive plots\n",
    "%matplotlib widget"
   ]
  },
  {
   "cell_type": "markdown",
   "metadata": {},
   "source": [
    "## Sorted according SO-ZORA"
   ]
  },
  {
   "cell_type": "code",
   "execution_count": 21,
   "metadata": {},
   "outputs": [],
   "source": [
    "working_directory = Path(\"/home/danian/hg2w/calculaT/ThermoChemistry/structures\")"
   ]
  },
  {
   "cell_type": "code",
   "execution_count": 23,
   "metadata": {},
   "outputs": [],
   "source": [
    "list_file_adf = glob(str(working_directory / 'sozora') + '/*.out')\n",
    "energies_file_adf = working_directory / ('sozora/energies.txt')"
   ]
  },
  {
   "cell_type": "markdown",
   "metadata": {},
   "source": [
    "## Reading Coordinates and Frequencies from ADF.2013"
   ]
  },
  {
   "cell_type": "code",
   "execution_count": 24,
   "metadata": {},
   "outputs": [],
   "source": [
    "find_lines_adf = {}\n",
    "for file_adf in list_file_adf:\n",
    "    read_file_adf = Path(file_adf).read_text()\n",
    "\n",
    "    \"\"\" Lines to read the geometry in ADF.2013 \"\"\"\n",
    "    start_line_geom = None\n",
    "    last_line_geom = None\n",
    "    start_line_freq = None\n",
    "    last_line_freq = None\n",
    "    for count, line in enumerate(read_file_adf.split('\\n')):\n",
    "\n",
    "        if line == \"                                            *  F R E Q U E N C I E S  *\":\n",
    "            start_line_geom = count + 11\n",
    "        elif line == \" Atomic Masses:\":\n",
    "            last_line_geom = count - 4\n",
    "        elif line == \" List of All Frequencies:\":\n",
    "            start_line_freq = count + 9\n",
    "        elif line == \" Statistical Thermal Analysis  ***  ideal gas assumed  ***\":\n",
    "            last_line_freq = count - 4\n",
    "        elif start_line_geom and last_line_geom and start_line_freq and last_line_freq:\n",
    "\n",
    "            break\n",
    "    find_lines_adf[Path(file_adf).name] = [start_line_geom, last_line_geom, start_line_freq, last_line_freq]\n"
   ]
  },
  {
   "cell_type": "code",
   "execution_count": 77,
   "metadata": {},
   "outputs": [],
   "source": [
    "geoms_systems = {}\n",
    "freqs_systems = {}\n",
    "energies_systems = {}\n",
    "for file_adf in list_file_adf:\n",
    "    with open(Path(file_adf), 'r') as f_adf:\n",
    "        file_content = f_adf.readlines()\n",
    "\n",
    "        \"\"\"Atoms object with ase.Atoms\"\"\"\n",
    "        last_line_geom = find_lines_adf[Path(file_adf).name][1]\n",
    "        start_line_geom = find_lines_adf[Path(file_adf).name][0]\n",
    "        lines_geom = last_line_geom - start_line_geom\n",
    "        coord_system = []\n",
    "        for i in range(lines_geom):\n",
    "            line = file_content[start_line_geom + i].split()\n",
    "            coord_system.append(Atom(line[1], (line[5], line[6], line[7])))\n",
    "        geoms_systems[Path(file_adf).name] = Atoms(coord_system)\n",
    "\n",
    "        \"\"\"Frequencies\"\"\"\n",
    "        last_line_freq = find_lines_adf[Path(file_adf).name][3]\n",
    "        start_line_freq = find_lines_adf[Path(file_adf).name][2]\n",
    "        lines_freq = last_line_freq - start_line_freq\n",
    "        freq_system = []\n",
    "        for i in range(lines_freq):\n",
    "            line = file_content[start_line_freq + i].split()\n",
    "            if float(line[0]) > 20.0:\n",
    "                freq_system.append(float(line[0]))\n",
    "        freqs_systems[Path(file_adf).name] = freq_system\n",
    "\n",
    "    \"\"\"Energies from ADF.2013 in Ev\"\"\"\n",
    "    with open(energies_file_adf, 'r') as f_energies:\n",
    "        stop = False\n",
    "        while stop == False:\n",
    "            line = f_energies.readline().split()\n",
    "            if line[0] == Path(file_adf).with_suffix('').name:\n",
    "                energies_systems[Path(file_adf).name] = float(line[1])\n",
    "                stop = True"
   ]
  },
  {
   "cell_type": "code",
   "execution_count": 78,
   "metadata": {},
   "outputs": [],
   "source": [
    "translation = {}\n",
    "vibration = {}\n",
    "rotation = {}\n",
    "electronic = {}\n",
    "for count, file_adf in enumerate(list_file_adf):\n",
    "    name_file = Path(file_adf).name\n",
    "\n",
    "    '''Translational'''\n",
    "    translation[name_file] = trans.FreeTrans(n_degrees=3, atoms=geoms_systems[name_file])\n",
    "\n",
    "    '''Vibrational'''\n",
    "    vibration[name_file] = vib.HarmonicVib(vib_wavenumbers=freqs_systems[name_file]) #cm^-1\n",
    "\n",
    "    '''Rotational'''\n",
    "    rotation[name_file] = rot.RigidRotor(symmetrynumber=1, atoms=geoms_systems[name_file]) #simmetry point C1\n",
    "\n",
    "    '''Electronic'''\n",
    "    electronic[name_file] = elec.GroundStateElec(potentialenergy=float(energies_systems[name_file]), spin=0) #Ev\n"
   ]
  },
  {
   "cell_type": "code",
   "execution_count": 79,
   "metadata": {},
   "outputs": [],
   "source": [
    "statmech = {}\n",
    "for file_adf in list_file_adf:\n",
    "    name_file = Path(file_adf).name\n",
    "    name = Path(file_adf).with_suffix('').name\n",
    "    '''StatMech Initialization'''\n",
    "    statmech[name_file] = StatMech(name= name,\n",
    "                            trans_model=translation[name_file],\n",
    "                            vib_model=vibration[name_file],\n",
    "                            rot_model=rotation[name_file],\n",
    "                            elec_model=electronic[name_file])"
   ]
  },
  {
   "cell_type": "code",
   "execution_count": 80,
   "metadata": {},
   "outputs": [
    {
     "name": "stdout",
     "output_type": "stream",
     "text": [
      "systems     H[kcal/mol]    S[kcal/mol/K]    G[kcal/mol]     T: 298.15 K\n",
      "w5s10.out:  -26702.474      0.124       -26739.555\n",
      "w5s9.out:  -26704.981      0.123       -26741.711\n",
      "w6s10.out:  -27049.573      0.130       -27088.411\n",
      "w5s6.out:  -26711.176      0.120       -26746.822\n",
      "w6s9.out:  -27049.488      0.135       -27089.753\n",
      "w6s7.out:  -27052.128      0.130       -27090.758\n",
      "w5s7.out:  -26705.714      0.115       -26740.100\n",
      "w2s1.out:  -25668.161      0.077       -25691.234\n",
      "w6s2.out:  -27059.177      0.123       -27095.863\n",
      "w4s4.out:  -26361.056      0.116       -26395.700\n",
      "w6s18.out:  -27031.408      0.147       -27075.240\n",
      "w3s2.out:  -26016.938      0.099       -26046.364\n",
      "w6s11.out:  -27049.072      0.127       -27086.809\n",
      "w6s19.out:  -27059.605      0.127       -27097.547\n",
      "w6s5.out:  -27056.559      0.131       -27095.725\n",
      "w5s2.out:  -26722.905      0.113       -26756.606\n",
      "w5s3.out:  -26719.370      0.115       -26753.703\n",
      "w5s8.out:  -26698.493      0.132       -26737.733\n",
      "w6s17.out:  -27037.143      0.141       -27079.084\n",
      "w3s1.out:  -26028.630      0.093       -26056.486\n",
      "w6s14.out:  -27031.862      0.145       -27074.993\n",
      "w6s4.out:  -27058.529      0.125       -27095.757\n",
      "w5s1.out:  -26722.982      0.113       -26756.550\n",
      "w6s1.out:  -27061.676      0.126       -27099.293\n",
      "w5s5.out:  -26713.342      0.113       -26746.980\n",
      "w5s4.out:  -26719.393      0.116       -26753.917\n",
      "w4s2.out:  -26376.855      0.107       -26408.837\n",
      "w4s1.out:  -26380.740      0.097       -26409.611\n",
      "w6s20.out:  -27058.940      0.130       -27097.572\n",
      "w6s12.out:  -27045.479      0.138       -27086.506\n",
      "w3s3.out:  -25993.364      0.095       -26021.616\n",
      "w6s13.out:  -27042.765      0.135       -27082.944\n",
      "w6s16.out:  -27049.350      0.127       -27087.298\n",
      "w6s3.out:  -27059.083      0.136       -27099.738\n",
      "w4s3.out:  -26370.771      0.104       -26401.658\n",
      "w6s6.out:  -27054.815      0.133       -27094.556\n",
      "w6s15.out:  -27049.440      0.135       -27089.661\n",
      "w6s8.out:  -27051.003      0.136       -27091.562\n",
      "w1s1.out:  -25268.418      0.063       -25287.314\n"
     ]
    }
   ],
   "source": [
    "print('systems     H[kcal/mol]    S[kcal/mol/K]    G[kcal/mol]     T: 298.15 K')\n",
    "for file_adf in list_file_adf:\n",
    "    name_file = Path(file_adf).name\n",
    "    H_statmech = statmech[name_file].get_H(T=298.15, units='kcal/mol')\n",
    "    S_statmech = statmech[name_file].get_S(T=298.15, units='kcal/mol/K')\n",
    "    G_statmech = statmech[name_file].get_G(T=298.15, units='kcal/mol')\n",
    "    print(f\"{name_file}:  {H_statmech:.3f}      {S_statmech:.3f}       {G_statmech:.3f}\")\n",
    "    # print(f'H_w6s1(T=298.15) = {H_statmech:.3f} kcal/mol')\n",
    "    # print(f'S_w6s1(T=298.15) = {S_statmech:.3f} kcal/mol/K')\n",
    "    # print(f'G_w6s1(T=298.15) = {G_statmech:.3f} kcal/mol')"
   ]
  },
  {
   "cell_type": "code",
   "execution_count": null,
   "metadata": {},
   "outputs": [],
   "source": []
  }
 ],
 "metadata": {
  "interpreter": {
   "hash": "516bc6535ab9e940184b692ec415cc529383115ebc65185761561b55cfa8146d"
  },
  "kernelspec": {
   "display_name": "Python 3.6.9 ('thermo': venv)",
   "language": "python",
   "name": "python3"
  },
  "language_info": {
   "codemirror_mode": {
    "name": "ipython",
    "version": 3
   },
   "file_extension": ".py",
   "mimetype": "text/x-python",
   "name": "python",
   "nbconvert_exporter": "python",
   "pygments_lexer": "ipython3",
   "version": "3.6.9"
  },
  "orig_nbformat": 4
 },
 "nbformat": 4,
 "nbformat_minor": 2
}
