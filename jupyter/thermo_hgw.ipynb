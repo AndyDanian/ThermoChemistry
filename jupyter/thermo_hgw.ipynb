{
 "cells": [
  {
   "cell_type": "code",
   "execution_count": 1,
   "metadata": {},
   "outputs": [],
   "source": [
    "from pathlib import Path\n",
    "from glob import glob\n",
    "\n",
    "import pandas as pd\n",
    "import numpy as np\n",
    "\n",
    "from ase import io\n",
    "from pmutt.statmech import StatMech, trans, vib, rot, elec\n",
    "\n",
    "# interactive plots\n",
    "%matplotlib widget"
   ]
  },
  {
   "cell_type": "markdown",
   "metadata": {},
   "source": [
    "## Sorted according SO-ZORA"
   ]
  },
  {
   "cell_type": "code",
   "execution_count": 2,
   "metadata": {},
   "outputs": [],
   "source": [
    "working_directory = Path(\"/home/danian/hg2w/calculaT/ThermoChemistry/structures\")\n"
   ]
  },
  {
   "cell_type": "code",
   "execution_count": 9,
   "metadata": {},
   "outputs": [],
   "source": [
    "w6s1 = io.read(working_directory / 'sozora/w6s1.xyz')"
   ]
  },
  {
   "cell_type": "code",
   "execution_count": 23,
   "metadata": {},
   "outputs": [
    {
     "name": "stdout",
     "output_type": "stream",
     "text": [
      "line O         5.907894    0.367009    0.452353\n",
      "line O        -5.907894   -0.367009    0.452353\n",
      "line O        -3.993485    0.139418   -1.016853\n",
      "line O         3.993485   -0.139418   -1.016853\n",
      "line O         1.809248   -0.833546    0.055968\n",
      "line O        -1.809248    0.833546    0.055968\n"
     ]
    }
   ],
   "source": [
    "file_w6s1 = working_directory / 'sozora/w6s1.xyz'\n",
    "file1 = file_w6s1.read_text()\n",
    "for l in file1.split('\\n'):\n",
    "    if l and l[0] == \"O\":\n",
    "        print(f\"line {l}\")\n"
   ]
  },
  {
   "cell_type": "code",
   "execution_count": 27,
   "metadata": {},
   "outputs": [
    {
     "name": "stdout",
     "output_type": "stream",
     "text": [
      "['/home/danian/hg2w/calculaT/ThermoChemistry/structures/sozora/w6s1.xyz', '/home/danian/hg2w/calculaT/ThermoChemistry/structures/sozora/w6s2.xyz']\n"
     ]
    }
   ],
   "source": [
    "list_file = glob(str(working_directory / 'sozora') + '/*.xyz')\n",
    "print(list_file)"
   ]
  },
  {
   "cell_type": "code",
   "execution_count": 30,
   "metadata": {},
   "outputs": [
    {
     "name": "stdout",
     "output_type": "stream",
     "text": [
      "False\n"
     ]
    }
   ],
   "source": [
    "file_xyz = working_directory / 'sozora/w6s1.xyz'\n",
    "file_adf = file_xyz.with_suffix('.out')\n",
    "file_adf1 = file_xyz.with_name('w.out')\n",
    "print(file_adf1.exists())"
   ]
  },
  {
   "cell_type": "markdown",
   "metadata": {},
   "source": [
    "## Reading Frequencies from ADF"
   ]
  },
  {
   "cell_type": "code",
   "execution_count": 10,
   "metadata": {},
   "outputs": [],
   "source": [
    "vibration = [9.11,16.04,24.99,55.93,59.78,76.86,78.00,124.05,\n",
    "125.86,129.67,156.65,164.41,192.78,297.17,297.92,367.05,374.94,386.67,\n",
    "387.05,430.72,438.82,472.32,472.40,550.35,588.95,627.73,628.10,943.90,\n",
    "945.82,1137.72,1141.45,1271.42,1271.65,1526.51,1530.84,1566.29,1566.98,\n",
    "1647.54,1647.90,1936.38,1965.20,2448.50,2493.08,3663.35,3663.38,3685.85,\n",
    "3688.20,3692.74,3693.39,3748.25,3748.35]\n",
    "\n",
    "vibration_higher_20cm = [24.99,55.93,59.78,76.86,78.00,124.05,\n",
    "125.86,129.67,156.65,164.41,192.78,297.17,297.92,367.05,374.94,386.67,\n",
    "387.05,430.72,438.82,472.32,472.40,550.35,588.95,627.73,628.10,943.90,\n",
    "945.82,1137.72,1141.45,1271.42,1271.65,1526.51,1530.84,1566.29,1566.98,\n",
    "1647.54,1647.90,1936.38,1965.20,2448.50,2493.08,3663.35,3663.38,3685.85,\n",
    "3688.20,3692.74,3693.39,3748.25,3748.35]"
   ]
  },
  {
   "cell_type": "code",
   "execution_count": 11,
   "metadata": {},
   "outputs": [],
   "source": [
    "'''Translational'''\n",
    "w6s1_trans = trans.FreeTrans(n_degrees=3, atoms=w6s1)\n",
    "\n",
    "'''Vibrational'''\n",
    "w6s1_vib = vib.HarmonicVib(vib_wavenumbers=vibration_higher_20cm) #cm^-1\n",
    "\n",
    "'''Rotational'''\n",
    "w6s1_rot = rot.RigidRotor(symmetrynumber=1, atoms=w6s1) #simmetry point C1\n",
    "\n",
    "'''Electronic'''\n",
    "w6s1_elec = elec.GroundStateElec(potentialenergy=-1177.78572591, spin=0) #Ev"
   ]
  },
  {
   "cell_type": "code",
   "execution_count": 12,
   "metadata": {},
   "outputs": [],
   "source": [
    "'''StatMech Initialization'''\n",
    "w6s1_statmech = StatMech(name='w6s1',\n",
    "                        trans_model=w6s1_trans,\n",
    "                        vib_model=w6s1_vib,\n",
    "                        rot_model=w6s1_rot,\n",
    "                        elec_model=w6s1_elec)"
   ]
  },
  {
   "cell_type": "code",
   "execution_count": 13,
   "metadata": {},
   "outputs": [
    {
     "name": "stdout",
     "output_type": "stream",
     "text": [
      "H_w6s1(T=298.15) = -27061.658 kcal/mol\n",
      "S_w6s1(T=298.15) = 0.126 kcal/mol/K\n",
      "G_w6s1(T=298.15) = -27099.290 kcal/mol\n"
     ]
    }
   ],
   "source": [
    "H_statmech = w6s1_statmech.get_H(T=298.15, units='kcal/mol')\n",
    "S_statmech = w6s1_statmech.get_S(T=298.15, units='kcal/mol/K')\n",
    "G_statmech = w6s1_statmech.get_G(T=298.15, units='kcal/mol')\n",
    "print(f'H_w6s1(T=298.15) = {H_statmech:.3f} kcal/mol')\n",
    "print(f'S_w6s1(T=298.15) = {S_statmech:.3f} kcal/mol/K')\n",
    "print(f'G_w6s1(T=298.15) = {G_statmech:.3f} kcal/mol')"
   ]
  }
 ],
 "metadata": {
  "interpreter": {
   "hash": "516bc6535ab9e940184b692ec415cc529383115ebc65185761561b55cfa8146d"
  },
  "kernelspec": {
   "display_name": "Python 3.6.9 ('thermo': venv)",
   "language": "python",
   "name": "python3"
  },
  "language_info": {
   "codemirror_mode": {
    "name": "ipython",
    "version": 3
   },
   "file_extension": ".py",
   "mimetype": "text/x-python",
   "name": "python",
   "nbconvert_exporter": "python",
   "pygments_lexer": "ipython3",
   "version": "3.6.9"
  },
  "orig_nbformat": 4
 },
 "nbformat": 4,
 "nbformat_minor": 2
}
