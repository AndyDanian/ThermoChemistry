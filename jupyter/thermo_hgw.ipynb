{
   "cells": [
      {
         "cell_type": "code",
         "execution_count": 22,
         "metadata": {},
         "outputs": [],
         "source": [
            "from pathlib import Path\n",
            "from glob import glob\n",
            "\n",
            "import pandas as pd\n",
            "import numpy as np\n",
            "import matplotlib.pyplot as plt\n",
            "\n",
            "from ase import Atoms, Atom\n",
            "from pmutt.io import gaussian\n",
            "from pmutt.statmech import StatMech, trans, vib, rot, elec\n",
            "from pmutt.constants import kb, Na\n",
            "\n",
            "\n",
            "# interactive plots\n",
            "%matplotlib widget"
         ]
      },
      {
         "cell_type": "code",
         "execution_count": 2,
         "metadata": {},
         "outputs": [],
         "source": [
            "KB_KCAL: float = kb(\"kcal/K\")\n",
            "AVOGADRO: float = Na\n",
            "\n",
            "KB_KCAL_MOL: float = KB_KCAL * AVOGADRO"
         ]
      },
      {
         "cell_type": "markdown",
         "metadata": {},
         "source": [
            "## Path father of the inputs"
         ]
      },
      {
         "cell_type": "code",
         "execution_count": 3,
         "metadata": {},
         "outputs": [],
         "source": [
            "working_directory = Path.cwd() / \"../structures\"\n",
            "\n",
            "if not working_directory.exists():\n",
            "    raise ValueError(\"The working directory does not exist.\")"
         ]
      },
      {
         "cell_type": "markdown",
         "metadata": {},
         "source": [
            "## Inputs files\n",
            "* ADF.2013 outputs\n",
            "* .txt with 2 columns: 1) name of the file of the output adf and 2) ADF energies in Ev\n",
            "* G16 outputs"
         ]
      },
      {
         "cell_type": "code",
         "execution_count": 46,
         "metadata": {},
         "outputs": [],
         "source": [
            "list_file_adf = glob(str(working_directory) + '/sozora/*.out')\n",
            "list_file_g16 = glob(str(working_directory) + '/g16/sddall/*.log')\n",
            "energies_file_adf = working_directory / ('sozora/energies.txt')\n",
            "\n",
            "if not energies_file_adf.exists():\n",
            "    raise ValueError(\"The energies file does not exist.\")\n",
            "\n",
            "if not list_file_adf:\n",
            "    raise ValueError(\"The list of ADF files does not exist.\")\n",
            "\n",
            "if not list_file_g16:\n",
            "    raise ValueError(\"The list of G16 files does not exist.\")"
         ]
      },
      {
         "cell_type": "markdown",
         "metadata": {},
         "source": [
            "## Reading coordinates and frequencies from ADF.2013"
         ]
      },
      {
         "cell_type": "code",
         "execution_count": 74,
         "metadata": {},
         "outputs": [],
         "source": [
            "find_lines_adf = {}\n",
            "for file_adf in list_file_adf:\n",
            "    read_file_adf = Path(file_adf).read_text()\n",
            "\n",
            "    \"\"\" Lines to read the geometry and frequencies form ADF.2013 output \"\"\"\n",
            "    start_line_geom = None\n",
            "    last_line_geom = None\n",
            "    start_line_freq = None\n",
            "    last_line_freq = None\n",
            "    for count, line in enumerate(read_file_adf.split('\\n')):\n",
            "\n",
            "        if line == \"                                            *  F R E Q U E N C I E S  *\":\n",
            "            start_line_geom = count + 11\n",
            "        elif line == \" Atomic Masses:\":\n",
            "            last_line_geom = count - 3\n",
            "        elif line == \" List of All Frequencies:\":\n",
            "            start_line_freq = count + 9\n",
            "        elif line == \" Statistical Thermal Analysis  ***  ideal gas assumed  ***\":\n",
            "            last_line_freq = count - 4\n",
            "        elif start_line_geom and last_line_geom and start_line_freq and last_line_freq:\n",
            "            break\n",
            "    find_lines_adf[Path(file_adf).stem] = [start_line_geom, last_line_geom, start_line_freq, last_line_freq]\n",
            "\n",
            "if not find_lines_adf:\n",
            "    raise ValueError(\"Geometries and frequencies in ADF.2013 does not exist.\")"
         ]
      },
      {
         "cell_type": "code",
         "execution_count": 89,
         "metadata": {},
         "outputs": [
            {
               "data": {
                  "text/plain": [
                     "{'_cellobj': Cell([0.0, 0.0, 0.0]),\n",
                     " '_pbc': array([False, False, False]),\n",
                     " 'arrays': {'numbers': array([80,  8,  1,  1]),\n",
                     "  'positions': array([[-0.244886,  0.095186,  0.      ],\n",
                     "         [ 1.858384, -0.18469 ,  0.      ],\n",
                     "         [ 2.317319,  0.18235 ,  0.80465 ],\n",
                     "         [ 2.317319,  0.18235 , -0.80465 ]])},\n",
                     " '_celldisp': array([[0.],\n",
                     "        [0.],\n",
                     "        [0.]]),\n",
                     " '_constraints': [],\n",
                     " 'info': {},\n",
                     " '_calc': None}"
                  ]
               },
               "execution_count": 89,
               "metadata": {},
               "output_type": "execute_result"
            }
         ],
         "source": [
            "geoms_systems = {}\n",
            "freqs_systems = {}\n",
            "energies_systems = {}\n",
            "for file_adf in list_file_adf:\n",
            "    with open(Path(file_adf), 'r') as f_adf:\n",
            "        file_content = f_adf.readlines()\n",
            "\n",
            "        \"\"\"Atoms object with ase.Atoms\"\"\"\n",
            "        last_line_geom = find_lines_adf[Path(file_adf).stem][1]\n",
            "        start_line_geom = find_lines_adf[Path(file_adf).stem][0]\n",
            "        lines_geom = last_line_geom - start_line_geom\n",
            "        coord_system = []\n",
            "        for i in range(lines_geom):\n",
            "            line = file_content[start_line_geom + i].split()\n",
            "            coord_system.append(Atom(line[1], (line[5], line[6], line[7])))\n",
            "        geoms_systems[Path(file_adf).stem] = Atoms(coord_system)\n",
            "\n",
            "        \"\"\"Frequencies\"\"\"\n",
            "        last_line_freq = find_lines_adf[Path(file_adf).stem][3]\n",
            "        start_line_freq = find_lines_adf[Path(file_adf).stem][2]\n",
            "        lines_freq = last_line_freq - start_line_freq\n",
            "        freq_system = []\n",
            "        for i in range(lines_freq):\n",
            "            line = file_content[start_line_freq + i].split()\n",
            "            if float(line[0]) > 20.0:\n",
            "                freq_system.append(float(line[0]))\n",
            "        freqs_systems[Path(file_adf).stem] = freq_system\n",
            "\n",
            "    \"\"\"Energies from ADF.2013 in Ev\"\"\"\n",
            "    with open(energies_file_adf, 'r') as f_energies:\n",
            "        stop = False\n",
            "        while stop == False:\n",
            "            line = f_energies.readline().split()\n",
            "            if line[0] == Path(file_adf).stem:\n",
            "                energies_systems[Path(file_adf).stem] = float(line[1])\n",
            "                stop = True\n",
            "\n",
            "if not geoms_systems:\n",
            "    raise ValueError(\"The geometries of the systems does not exist.\")\n",
            "if not freqs_systems:\n",
            "    raise ValueError(\"The frequencies of the systems does not exist.\")\n",
            "if not energies_systems:\n",
            "    raise ValueError(\"The energies of the systems does not exist.\")\n",
            "\n",
            "geoms_systems[\"w1s1\"].__dict__"
         ]
      },
      {
         "cell_type": "markdown",
         "metadata": {},
         "source": [
            "## Reading coordinates and frequencies from G16"
         ]
      },
      {
         "cell_type": "code",
         "execution_count": 76,
         "metadata": {},
         "outputs": [],
         "source": [
            "find_lines_g16 = {}\n",
            "for file_g16 in list_file_g16:\n",
            "    read_file_g16 = Path(file_g16).read_text()\n",
            "\n",
            "    \"\"\" Lines to read the geometry form G16 output \"\"\"\n",
            "    start_line_geom_g16 = None\n",
            "    last_line_geom_g16 = None\n",
            "    for count, line in enumerate(read_file_g16.split(\"\\n\")):\n",
            "\n",
            "        if line == \"                          Input orientation:                          \":\n",
            "            start_line_geom_g16 = count + 5\n",
            "        elif line == \"                    Distance matrix (angstroms):\":\n",
            "            last_line_geom_g16 = count - 1\n",
            "        elif start_line_geom_g16 and last_line_geom_g16:\n",
            "            break\n",
            "    find_lines_g16[Path(file_g16).stem] = [start_line_geom_g16, last_line_geom_g16]\n",
            "\n",
            "if not find_lines_g16:\n",
            "    raise ValueError(\"Geometries in G16 does not exist.\")"
         ]
      },
      {
         "cell_type": "code",
         "execution_count": 77,
         "metadata": {},
         "outputs": [
            {
               "data": {
                  "text/plain": [
                     "{'_cellobj': Cell([0.0, 0.0, 0.0]),\n",
                     " '_pbc': array([False, False, False]),\n",
                     " 'arrays': {'numbers': array([80,  8,  1,  1]),\n",
                     "  'positions': array([[-0.22513 ,  0.010739,  0.      ],\n",
                     "         [ 1.821376, -0.090165,  0.      ],\n",
                     "         [ 2.325945,  0.18731 ,  0.79892 ],\n",
                     "         [ 2.325945,  0.17731 , -0.79892 ]])},\n",
                     " '_celldisp': array([[0.],\n",
                     "        [0.],\n",
                     "        [0.]]),\n",
                     " '_constraints': [],\n",
                     " 'info': {},\n",
                     " '_calc': None}"
                  ]
               },
               "execution_count": 77,
               "metadata": {},
               "output_type": "execute_result"
            }
         ],
         "source": [
            "geoms_systems_g16 = {}\n",
            "freqs_systems_g16 = {}\n",
            "energies_systems_g16 = {}\n",
            "for file_g16 in list_file_g16:\n",
            "    with open(Path(file_g16), 'r') as f_g16:\n",
            "        file_content = f_g16.readlines()\n",
            "\n",
            "        \"\"\"Atoms object with ase.Atoms\"\"\"\n",
            "        last_line_geom_g16 = find_lines_g16[Path(file_g16).stem][1]\n",
            "        start_line_geom_g16 = find_lines_g16[Path(file_g16).stem][0]\n",
            "        lines_geom_g16 = last_line_geom_g16 - start_line_geom_g16\n",
            "        coord_system_g16 = []\n",
            "        for i in range(lines_geom_g16):\n",
            "            line = file_content[start_line_geom_g16 + i].split()\n",
            "            coord_system_g16.append(Atom(int(line[1]), (line[3], line[4], line[5])))\n",
            "        geoms_systems_g16[Path(file_g16).stem] = Atoms(coord_system_g16)\n",
            "\n",
            "    \"\"\"Frequencies from G16\"\"\"\n",
            "    freqs_systems_g16[Path(file_g16).stem] = gaussian.read_frequencies(file_g16, units='1/cm')\n",
            "    \"\"\"Energies from G16 in Ev\"\"\"\n",
            "    energies_systems_g16[Path(file_g16).stem] = gaussian.read_electronic_and_zpe(file_g16, units='eV/molecule')\n",
            "\n",
            "if not geoms_systems_g16:\n",
            "    raise ValueError(\"The geometries of the systems does not exist.\")\n",
            "if not freqs_systems_g16:\n",
            "    raise ValueError(\"The frequencies of the systems does not exist.\")\n",
            "if not energies_systems_g16:\n",
            "    raise ValueError(\"The energies of the systems does not exist.\")\n",
            "\n",
            "geoms_systems_g16[\"w1s1\"].__dict__"
         ]
      },
      {
         "cell_type": "markdown",
         "metadata": {},
         "source": [
            "## Build object to statical mechanical calculation"
         ]
      },
      {
         "cell_type": "code",
         "execution_count": 90,
         "metadata": {},
         "outputs": [],
         "source": [
            "translation = {}\n",
            "vibration = {}\n",
            "rotation = {}\n",
            "electronic = {}\n",
            "translation_g16 = {}\n",
            "vibration_g16 = {}\n",
            "rotation_g16 = {}\n",
            "electronic_g16 = {}\n",
            "for count, file_adf in enumerate(list_file_adf):\n",
            "    name_file = Path(file_adf).stem\n",
            "\n",
            "    '''Translational'''\n",
            "    translation[name_file] = trans.FreeTrans(n_degrees=3, atoms=geoms_systems[name_file])\n",
            "    translation_g16[name_file] = trans.FreeTrans(n_degrees=3, atoms=geoms_systems_g16[name_file])\n",
            "\n",
            "    '''Vibrational'''\n",
            "    vibration[name_file] = vib.HarmonicVib(vib_wavenumbers=freqs_systems[name_file]) #cm^-1\n",
            "    vibration_g16[name_file] = vib.HarmonicVib(vib_wavenumbers=freqs_systems_g16[name_file]) #cm^-1\n",
            "\n",
            "    '''Rotational'''\n",
            "    rotation[name_file] = rot.RigidRotor(symmetrynumber=1, atoms=geoms_systems[name_file]) #simmetry point C1\n",
            "    rotation_g16[name_file] = rot.RigidRotor(symmetrynumber=1, atoms=geoms_systems_g16[name_file]) #simmetry point C1\n",
            "\n",
            "    '''Electronic'''\n",
            "    electronic[name_file] = elec.GroundStateElec(potentialenergy=float(energies_systems[name_file]), spin=0) #Ev\n",
            "    electronic_g16[name_file] = elec.GroundStateElec(potentialenergy=float(energies_systems_g16[name_file]), spin=0) #Ev\n",
            "\n",
            "if not translation:\n",
            "    raise ValueError(\"The translational part of the systems does not exist.\")\n",
            "if not vibration:\n",
            "    raise ValueError(\"The vibrational part of the systems does not exist.\")\n",
            "if not rotation:\n",
            "    raise ValueError(\"The rotational part of the systems does not exist.\")\n",
            "if not electronic:\n",
            "    raise ValueError(\"The electronic part of the systems does not exist.\")"
         ]
      },
      {
         "cell_type": "markdown",
         "metadata": {},
         "source": [
            "## Calculate the partition function"
         ]
      },
      {
         "cell_type": "code",
         "execution_count": 91,
         "metadata": {},
         "outputs": [],
         "source": [
            "statmech = {}\n",
            "for file_adf in list_file_adf:\n",
            "    name_file = Path(file_adf).stem\n",
            "    '''StatMech Initialization'''\n",
            "    statmech[name_file] = StatMech(name=name_file,\n",
            "                            trans_model=translation[name_file],\n",
            "                            vib_model=vibration[name_file],\n",
            "                            rot_model=rotation[name_file],\n",
            "                            elec_model=electronic[name_file])\n",
            "\n",
            "if not statmech:\n",
            "    raise ValueError(\"The statmech of the systems does not exist.\")"
         ]
      },
      {
         "cell_type": "markdown",
         "metadata": {},
         "source": [
            "## Thermochemistry quantities"
         ]
      },
      {
         "cell_type": "code",
         "execution_count": 92,
         "metadata": {},
         "outputs": [
            {
               "name": "stdout",
               "output_type": "stream",
               "text": [
                  "systems     H[kcal/mol]    S[kcal/mol/K]    G[kcal/mol]     T: 298.15 K\n",
                  "w5s10:  -26698.196      0.124       -26735.291\n",
                  "w5s9:  -26703.577      0.123       -26740.330\n",
                  "w6s10:  -27051.053      0.130       -27089.910\n",
                  "w5s6:  -26711.176      0.120       -26746.833\n",
                  "w6s9:  -27051.572      0.135       -27091.845\n",
                  "w6s7:  -27056.671      0.130       -27095.312\n",
                  "w5s7:  -26705.714      0.115       -26740.115\n",
                  "w2s1:  -25668.161      0.078       -25691.355\n",
                  "w6s2:  -27059.943      0.126       -27097.591\n",
                  "w4s4:  -26361.056      0.120       -26396.900\n",
                  "w6s18:  -27037.476      0.147       -27081.323\n",
                  "w3s2:  -26016.938      0.099       -26046.400\n",
                  "w6s11:  -27049.083      0.130       -27087.794\n",
                  "w6s19:  -27035.038      0.127       -27072.987\n",
                  "w6s5:  -27058.922      0.131       -27098.105\n",
                  "w5s2:  -26722.905      0.117       -26757.802\n",
                  "w5s3:  -26719.377      0.115       -26753.731\n",
                  "w5s8:  -26704.174      0.135       -26744.459\n",
                  "w6s17:  -27041.360      0.141       -27083.315\n",
                  "w3s1:  -26028.630      0.094       -26056.527\n",
                  "w6s14:  -27047.152      0.148       -27091.215\n",
                  "w6s4:  -27059.192      0.128       -27097.488\n",
                  "w5s1:  -26722.982      0.116       -26757.701\n",
                  "w6s1:  -27061.676      0.126       -27099.308\n",
                  "w5s5:  -26713.342      0.113       -26747.000\n",
                  "w5s4:  -26719.385      0.116       -26753.932\n",
                  "w4s2:  -26376.855      0.112       -26410.296\n",
                  "w4s1:  -26380.740      0.101       -26410.885\n",
                  "w6s20:  -27034.116      0.133       -27073.737\n",
                  "w6s12:  -27048.913      0.138       -27089.949\n",
                  "w3s3:  -25993.364      0.095       -26021.647\n",
                  "w6s13:  -27048.391      0.135       -27088.590\n",
                  "w6s16:  -27045.657      0.131       -27084.567\n",
                  "w6s3:  -27058.813      0.136       -27099.479\n",
                  "w4s3:  -26370.771      0.108       -26403.000\n",
                  "w6s6:  -27058.503      0.133       -27098.266\n",
                  "w6s15:  -27049.479      0.135       -27089.719\n",
                  "w6s8:  -27054.085      0.136       -27094.651\n",
                  "w1s1:  -25268.418      0.064       -25287.586\n"
               ]
            }
         ],
         "source": [
            "print('systems     H[kcal/mol]    S[kcal/mol/K]    G[kcal/mol]     T: 298.15 K')\n",
            "for file_adf in list_file_adf:\n",
            "    name_file = Path(file_adf).stem\n",
            "    H_statmech = statmech[name_file].get_H(T=298.15, units='kcal/mol')\n",
            "    S_statmech = statmech[name_file].get_S(T=298.15, units='kcal/mol/K')\n",
            "    G_statmech = statmech[name_file].get_G(T=298.15, units='kcal/mol')\n",
            "    print(f\"{name_file}:  {H_statmech:.3f}      {S_statmech:.3f}       {G_statmech:.3f}\")"
         ]
      },
      {
         "cell_type": "markdown",
         "metadata": {},
         "source": [
            "## Thermochemistry quantities: different temperatures in kelvin"
         ]
      },
      {
         "cell_type": "code",
         "execution_count": 93,
         "metadata": {},
         "outputs": [],
         "source": [
            "# df_results = pd.DataFrame(columns=['system', \"H[kcal/mol]\", \"S[kcal/mol/K]\", \"G[kcal/mol]\"])\n",
            "absolute_thermochemical_results = {}\n",
            "\n",
            "for file_adf in list_file_adf:\n",
            "\n",
            "    name_file = Path(file_adf).stem\n",
            "\n",
            "    absolute_thermochemical_results[Path(file_adf).stem] = {}\n",
            "\n",
            "    thermo_data = {\n",
            "        'temperature[K]': [],\n",
            "        \"H[kcal/mol]\": [],\n",
            "        \"S[kcal/mol/K]\": [],\n",
            "        \"G[kcal/mol]\": [],\n",
            "    }\n",
            "\n",
            "    for temperature in range(1, 500, 1):\n",
            "\n",
            "        H_statmech = statmech[name_file].get_H(T=temperature, units='kcal/mol')\n",
            "        S_statmech = statmech[name_file].get_S(T=temperature, units='kcal/mol/K')\n",
            "        G_statmech = statmech[name_file].get_G(T=temperature, units='kcal/mol')\n",
            "\n",
            "        thermo_data['temperature[K]'].append(temperature)\n",
            "        thermo_data['H[kcal/mol]'].append(H_statmech)\n",
            "        thermo_data['S[kcal/mol/K]'].append(S_statmech)\n",
            "        thermo_data['G[kcal/mol]'].append(G_statmech)\n",
            "\n",
            "    absolute_thermochemical_results[name_file] = pd.DataFrame(thermo_data)\n",
            "\n",
            "if not absolute_thermochemical_results:\n",
            "    raise ValueError(\"The absolute thermochemical values of the systems does not exist.\")"
         ]
      },
      {
         "cell_type": "code",
         "execution_count": 94,
         "metadata": {},
         "outputs": [
            {
               "data": {
                  "text/html": [
                     "<div>\n",
                     "<style scoped>\n",
                     "    .dataframe tbody tr th:only-of-type {\n",
                     "        vertical-align: middle;\n",
                     "    }\n",
                     "\n",
                     "    .dataframe tbody tr th {\n",
                     "        vertical-align: top;\n",
                     "    }\n",
                     "\n",
                     "    .dataframe thead th {\n",
                     "        text-align: right;\n",
                     "    }\n",
                     "</style>\n",
                     "<table border=\"1\" class=\"dataframe\">\n",
                     "  <thead>\n",
                     "    <tr style=\"text-align: right;\">\n",
                     "      <th></th>\n",
                     "      <th>temperature[K]</th>\n",
                     "      <th>H[kcal/mol]</th>\n",
                     "      <th>S[kcal/mol/K]</th>\n",
                     "      <th>G[kcal/mol]</th>\n",
                     "    </tr>\n",
                     "  </thead>\n",
                     "  <tbody>\n",
                     "    <tr>\n",
                     "      <th>494</th>\n",
                     "      <td>495</td>\n",
                     "      <td>-27050.532374</td>\n",
                     "      <td>0.154662</td>\n",
                     "      <td>-27127.090278</td>\n",
                     "    </tr>\n",
                     "    <tr>\n",
                     "      <th>495</th>\n",
                     "      <td>496</td>\n",
                     "      <td>-27050.470163</td>\n",
                     "      <td>0.154788</td>\n",
                     "      <td>-27127.245003</td>\n",
                     "    </tr>\n",
                     "    <tr>\n",
                     "      <th>496</th>\n",
                     "      <td>497</td>\n",
                     "      <td>-27050.407901</td>\n",
                     "      <td>0.154913</td>\n",
                     "      <td>-27127.399854</td>\n",
                     "    </tr>\n",
                     "    <tr>\n",
                     "      <th>497</th>\n",
                     "      <td>498</td>\n",
                     "      <td>-27050.345590</td>\n",
                     "      <td>0.155039</td>\n",
                     "      <td>-27127.554830</td>\n",
                     "    </tr>\n",
                     "    <tr>\n",
                     "      <th>498</th>\n",
                     "      <td>499</td>\n",
                     "      <td>-27050.283229</td>\n",
                     "      <td>0.155164</td>\n",
                     "      <td>-27127.709931</td>\n",
                     "    </tr>\n",
                     "  </tbody>\n",
                     "</table>\n",
                     "</div>"
                  ],
                  "text/plain": [
                     "     temperature[K]   H[kcal/mol]  S[kcal/mol/K]   G[kcal/mol]\n",
                     "494             495 -27050.532374       0.154662 -27127.090278\n",
                     "495             496 -27050.470163       0.154788 -27127.245003\n",
                     "496             497 -27050.407901       0.154913 -27127.399854\n",
                     "497             498 -27050.345590       0.155039 -27127.554830\n",
                     "498             499 -27050.283229       0.155164 -27127.709931"
                  ]
               },
               "execution_count": 94,
               "metadata": {},
               "output_type": "execute_result"
            }
         ],
         "source": [
            "absolute_thermochemical_results['w6s1'].tail()"
         ]
      },
      {
         "cell_type": "markdown",
         "metadata": {},
         "source": [
            "## Gibbs free energy delta"
         ]
      },
      {
         "cell_type": "code",
         "execution_count": 95,
         "metadata": {},
         "outputs": [
            {
               "data": {
                  "text/html": [
                     "<div>\n",
                     "<style scoped>\n",
                     "    .dataframe tbody tr th:only-of-type {\n",
                     "        vertical-align: middle;\n",
                     "    }\n",
                     "\n",
                     "    .dataframe tbody tr th {\n",
                     "        vertical-align: top;\n",
                     "    }\n",
                     "\n",
                     "    .dataframe thead th {\n",
                     "        text-align: right;\n",
                     "    }\n",
                     "</style>\n",
                     "<table border=\"1\" class=\"dataframe\">\n",
                     "  <thead>\n",
                     "    <tr style=\"text-align: right;\">\n",
                     "      <th></th>\n",
                     "      <th>T[K]</th>\n",
                     "      <th>DH[kcal/mol]</th>\n",
                     "      <th>DS[kcal/mol/K]</th>\n",
                     "      <th>DG[kcal/mol]</th>\n",
                     "    </tr>\n",
                     "  </thead>\n",
                     "  <tbody>\n",
                     "    <tr>\n",
                     "      <th>0</th>\n",
                     "      <td>1</td>\n",
                     "      <td>26.891391</td>\n",
                     "      <td>0.000534</td>\n",
                     "      <td>26.890856</td>\n",
                     "    </tr>\n",
                     "    <tr>\n",
                     "      <th>1</th>\n",
                     "      <td>2</td>\n",
                     "      <td>26.891391</td>\n",
                     "      <td>0.000535</td>\n",
                     "      <td>26.890322</td>\n",
                     "    </tr>\n",
                     "    <tr>\n",
                     "      <th>2</th>\n",
                     "      <td>3</td>\n",
                     "      <td>26.891394</td>\n",
                     "      <td>0.000536</td>\n",
                     "      <td>26.889787</td>\n",
                     "    </tr>\n",
                     "    <tr>\n",
                     "      <th>3</th>\n",
                     "      <td>4</td>\n",
                     "      <td>26.891425</td>\n",
                     "      <td>0.000544</td>\n",
                     "      <td>26.889248</td>\n",
                     "    </tr>\n",
                     "    <tr>\n",
                     "      <th>4</th>\n",
                     "      <td>5</td>\n",
                     "      <td>26.891520</td>\n",
                     "      <td>0.000565</td>\n",
                     "      <td>26.888694</td>\n",
                     "    </tr>\n",
                     "  </tbody>\n",
                     "</table>\n",
                     "</div>"
                  ],
                  "text/plain": [
                     "   T[K]  DH[kcal/mol]  DS[kcal/mol/K]  DG[kcal/mol]\n",
                     "0     1     26.891391        0.000534     26.890856\n",
                     "1     2     26.891391        0.000535     26.890322\n",
                     "2     3     26.891394        0.000536     26.889787\n",
                     "3     4     26.891425        0.000544     26.889248\n",
                     "4     5     26.891520        0.000565     26.888694"
                  ]
               },
               "execution_count": 95,
               "metadata": {},
               "output_type": "execute_result"
            }
         ],
         "source": [
            "thermochemical_results = absolute_thermochemical_results['w6s20'] - absolute_thermochemical_results['w6s1']\n",
            "\n",
            "thermochemical_results['temperature[K]'] = absolute_thermochemical_results['w6s1']['temperature[K]']\n",
            "\n",
            "thermochemical_results.rename(\n",
            "    columns={\n",
            "        'temperature[K]': 'T[K]',\n",
            "        \"H[kcal/mol]\": \"DH[kcal/mol]\",\n",
            "        \"S[kcal/mol/K]\": \"DS[kcal/mol/K]\",\n",
            "        \"G[kcal/mol]\": \"DG[kcal/mol]\",\n",
            "        },\n",
            "    inplace=True,\n",
            "    errors='raise',\n",
            "    )\n",
            "\n",
            "thermochemical_results.head()"
         ]
      },
      {
         "cell_type": "markdown",
         "metadata": {},
         "source": [
            "## Boltzmann poblation for each system according the temperature"
         ]
      },
      {
         "cell_type": "code",
         "execution_count": 96,
         "metadata": {},
         "outputs": [
            {
               "data": {
                  "text/plain": [
                     "0    0.0\n",
                     "1    0.0\n",
                     "2    0.0\n",
                     "3    0.0\n",
                     "4    0.0\n",
                     "dtype: float64"
                  ]
               },
               "execution_count": 96,
               "metadata": {},
               "output_type": "execute_result"
            }
         ],
         "source": [
            "relative_population = np.exp(-thermochemical_results['DG[kcal/mol]'] / KB_KCAL_MOL / thermochemical_results['T[K]'])\n",
            "\n",
            "relative_population.head()"
         ]
      },
      {
         "cell_type": "code",
         "execution_count": 97,
         "metadata": {},
         "outputs": [
            {
               "data": {
                  "text/plain": [
                     "[<matplotlib.lines.Line2D at 0x7f9604298d30>]"
                  ]
               },
               "execution_count": 97,
               "metadata": {},
               "output_type": "execute_result"
            },
            {
               "data": {
                  "application/vnd.jupyter.widget-view+json": {
                     "model_id": "5aa1671f93c547aba8d6ae3f3f8bd312",
                     "version_major": 2,
                     "version_minor": 0
                  },
                  "image/png": "[encoded data removed]",
                  "text/html": [
                     "\n",
                     "            <div style=\"display: inline-block;\">\n",
                     "                <div class=\"jupyter-widgets widget-label\" style=\"text-align: center;\">\n",
                     "                    Figure\n",
                     "                </div>\n",
                     "                <img src='data:image/png;base64,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' width=600.0/>\n",
                     "            </div>\n",
                     "        "
                  ],
                  "text/plain": [
                     "Canvas(toolbar=Toolbar(toolitems=[('Home', 'Reset original view', 'home', 'home'), ('Back', 'Back to previous …"
                  ]
               },
               "metadata": {},
               "output_type": "display_data"
            }
         ],
         "source": [
            "fig = plt.figure(figsize=(6, 4))\n",
            "ax = fig.add_subplot(111)\n",
            "\n",
            "ax.plot(thermochemical_results['T[K]'], relative_population)"
         ]
      },
      {
         "cell_type": "code",
         "execution_count": 16,
         "metadata": {},
         "outputs": [],
         "source": [
            "# thermochemical_results['w4s4.out'].plot(x='temperature', y=['H[kcal/mol]', 'S[kcal/mol/K]', 'G[kcal/mol]'], figsize=(10, 10))\n",
            "#thermochemical_results['w4s4.out'].plot(x='temperature', y=['G[kcal/mol]'], figsize=(4, 4), )"
         ]
      },
      {
         "cell_type": "code",
         "execution_count": null,
         "metadata": {},
         "outputs": [],
         "source": []
      }
   ],
   "metadata": {
      "interpreter": {
         "hash": "516bc6535ab9e940184b692ec415cc529383115ebc65185761561b55cfa8146d"
      },
      "kernelspec": {
         "display_name": "Python 3.6.9 ('thermo': venv)",
         "language": "python",
         "name": "python3"
      },
      "language_info": {
         "codemirror_mode": {
            "name": "ipython",
            "version": 3
         },
         "file_extension": ".py",
         "mimetype": "text/x-python",
         "name": "python",
         "nbconvert_exporter": "python",
         "pygments_lexer": "ipython3",
         "version": "3.6.9"
      },
      "orig_nbformat": 4
   },
   "nbformat": 4,
   "nbformat_minor": 2
}