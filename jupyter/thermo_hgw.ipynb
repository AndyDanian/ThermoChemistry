{
 "cells": [
  {
   "cell_type": "code",
   "execution_count": 1,
   "metadata": {},
   "outputs": [],
   "source": [
    "from pathlib import Path\n",
    "from glob import glob\n",
    "\n",
    "import pandas as pd\n",
    "import numpy as np\n",
    "import matplotlib.pyplot as plt\n",
    "\n",
    "from ase import Atoms, Atom\n",
    "from pmutt.statmech import StatMech, trans, vib, rot, elec\n",
    "from pmutt.constants import kb, Na\n",
    "\n",
    "\n",
    "# interactive plots\n",
    "%matplotlib widget"
   ]
  },
  {
   "cell_type": "code",
   "execution_count": 2,
   "metadata": {},
   "outputs": [],
   "source": [
    "KB_KCAL: float = kb(\"kcal/K\")\n",
    "AVOGADRO: float = Na\n",
    "\n",
    "KB_KCAL_MOL: float = KB_KCAL * AVOGADRO"
   ]
  },
  {
   "cell_type": "markdown",
   "metadata": {},
   "source": [
    "## Sorted according SO-ZORA"
   ]
  },
  {
   "cell_type": "code",
   "execution_count": 3,
   "metadata": {},
   "outputs": [
    {
     "name": "stdout",
     "output_type": "stream",
     "text": [
      "/home/danian/hg2w/calculaT/ThermoChemistry/jupyter/../structures/sozora\n"
     ]
    }
   ],
   "source": [
    "working_directory = Path.cwd() / \"../structures/sozora/\"\n",
    "\n",
    "if not working_directory.exists():\n",
    "    raise ValueError(\"The working directory does not exist.\")"
   ]
  },
  {
   "cell_type": "code",
   "execution_count": 4,
   "metadata": {},
   "outputs": [],
   "source": [
    "list_file_adf = glob(str(working_directory) + '/*.out')\n",
    "energies_file_adf = working_directory / ('energies.txt')\n",
    "\n",
    "if not energies_file_adf.exists():\n",
    "    raise ValueError(\"The energies file does not exist.\")\n",
    "\n",
    "if not list_file_adf:\n",
    "    raise ValueError(\"The list of ADF files does not exist.\")"
   ]
  },
  {
   "cell_type": "markdown",
   "metadata": {},
   "source": [
    "## Reading Coordinates and Frequencies from ADF.2013"
   ]
  },
  {
   "cell_type": "code",
   "execution_count": 5,
   "metadata": {},
   "outputs": [],
   "source": [
    "find_lines_adf = {}\n",
    "for file_adf in list_file_adf:\n",
    "    read_file_adf = Path(file_adf).read_text()\n",
    "\n",
    "    \"\"\" Lines to read the geometry in ADF.2013 \"\"\"\n",
    "    start_line_geom = None\n",
    "    last_line_geom = None\n",
    "    start_line_freq = None\n",
    "    last_line_freq = None\n",
    "    for count, line in enumerate(read_file_adf.split('\\n')):\n",
    "\n",
    "        if line == \"                                            *  F R E Q U E N C I E S  *\":\n",
    "            start_line_geom = count + 11\n",
    "        elif line == \" Atomic Masses:\":\n",
    "            last_line_geom = count - 4\n",
    "        elif line == \" List of All Frequencies:\":\n",
    "            start_line_freq = count + 9\n",
    "        elif line == \" Statistical Thermal Analysis  ***  ideal gas assumed  ***\":\n",
    "            last_line_freq = count - 4\n",
    "        elif start_line_geom and last_line_geom and start_line_freq and last_line_freq:\n",
    "\n",
    "            break\n",
    "    find_lines_adf[Path(file_adf).name] = [start_line_geom, last_line_geom, start_line_freq, last_line_freq]\n",
    "\n",
    "if not find_lines_adf:\n",
    "    raise ValueError(\"The lines to read the geometry and frequencies in ADF.2013 does not exist.\")"
   ]
  },
  {
   "cell_type": "code",
   "execution_count": 6,
   "metadata": {},
   "outputs": [],
   "source": [
    "geoms_systems = {}\n",
    "freqs_systems = {}\n",
    "energies_systems = {}\n",
    "for file_adf in list_file_adf:\n",
    "    with open(Path(file_adf), 'r') as f_adf:\n",
    "        file_content = f_adf.readlines()\n",
    "\n",
    "        \"\"\"Atoms object with ase.Atoms\"\"\"\n",
    "        last_line_geom = find_lines_adf[Path(file_adf).name][1]\n",
    "        start_line_geom = find_lines_adf[Path(file_adf).name][0]\n",
    "        lines_geom = last_line_geom - start_line_geom\n",
    "        coord_system = []\n",
    "        for i in range(lines_geom):\n",
    "            line = file_content[start_line_geom + i].split()\n",
    "            coord_system.append(Atom(line[1], (line[5], line[6], line[7])))\n",
    "        geoms_systems[Path(file_adf).name] = Atoms(coord_system)\n",
    "\n",
    "        \"\"\"Frequencies\"\"\"\n",
    "        last_line_freq = find_lines_adf[Path(file_adf).name][3]\n",
    "        start_line_freq = find_lines_adf[Path(file_adf).name][2]\n",
    "        lines_freq = last_line_freq - start_line_freq\n",
    "        freq_system = []\n",
    "        for i in range(lines_freq):\n",
    "            line = file_content[start_line_freq + i].split()\n",
    "            if float(line[0]) > 20.0:\n",
    "                freq_system.append(float(line[0]))\n",
    "        freqs_systems[Path(file_adf).name] = freq_system\n",
    "\n",
    "    \"\"\"Energies from ADF.2013 in Ev\"\"\"\n",
    "    with open(energies_file_adf, 'r') as f_energies:\n",
    "        stop = False\n",
    "        while stop == False:\n",
    "            line = f_energies.readline().split()\n",
    "            if line[0] == Path(file_adf).with_suffix('').name:\n",
    "                energies_systems[Path(file_adf).name] = float(line[1])\n",
    "                stop = True\n",
    "\n",
    "if not geoms_systems:\n",
    "    raise ValueError(\"The geometries of the systems does not exist.\")\n",
    "if not freqs_systems:\n",
    "    raise ValueError(\"The frequencies of the systems does not exist.\")\n",
    "if not energies_systems:\n",
    "    raise ValueError(\"The energies of the systems does not exist.\")"
   ]
  },
  {
   "cell_type": "code",
   "execution_count": 7,
   "metadata": {},
   "outputs": [],
   "source": [
    "translation = {}\n",
    "vibration = {}\n",
    "rotation = {}\n",
    "electronic = {}\n",
    "for count, file_adf in enumerate(list_file_adf):\n",
    "    name_file = Path(file_adf).name\n",
    "\n",
    "    '''Translational'''\n",
    "    translation[name_file] = trans.FreeTrans(n_degrees=3, atoms=geoms_systems[name_file])\n",
    "\n",
    "    '''Vibrational'''\n",
    "    vibration[name_file] = vib.HarmonicVib(vib_wavenumbers=freqs_systems[name_file]) #cm^-1\n",
    "\n",
    "    '''Rotational'''\n",
    "    rotation[name_file] = rot.RigidRotor(symmetrynumber=1, atoms=geoms_systems[name_file]) #simmetry point C1\n",
    "\n",
    "    '''Electronic'''\n",
    "    electronic[name_file] = elec.GroundStateElec(potentialenergy=float(energies_systems[name_file]), spin=0) #Ev\n",
    "\n",
    "if not translation:\n",
    "    raise ValueError(\"The translational part of the systems does not exist.\")\n",
    "if not vibration:\n",
    "    raise ValueError(\"The vibrational part of the systems does not exist.\")\n",
    "if not rotation:\n",
    "    raise ValueError(\"The rotational part of the systems does not exist.\")\n",
    "if not electronic:\n",
    "    raise ValueError(\"The electronic part of the systems does not exist.\")"
   ]
  },
  {
   "cell_type": "code",
   "execution_count": 8,
   "metadata": {},
   "outputs": [],
   "source": [
    "statmech = {}\n",
    "for file_adf in list_file_adf:\n",
    "    name_file = Path(file_adf).name\n",
    "    name = Path(file_adf).with_suffix('').name\n",
    "    '''StatMech Initialization'''\n",
    "    statmech[name_file] = StatMech(name=name,\n",
    "                            trans_model=translation[name_file],\n",
    "                            vib_model=vibration[name_file],\n",
    "                            rot_model=rotation[name_file],\n",
    "                            elec_model=electronic[name_file])\n",
    "\n",
    "if not statmech:\n",
    "    raise ValueError(\"The statmech of the systems does not exist.\")"
   ]
  },
  {
   "cell_type": "code",
   "execution_count": 9,
   "metadata": {},
   "outputs": [
    {
     "name": "stdout",
     "output_type": "stream",
     "text": [
      "systems     H[kcal/mol]    S[kcal/mol/K]    G[kcal/mol]     T: 298.15 K\n",
      "w5s10.out:  -26702.474      0.124       -26739.555\n",
      "w5s9.out:  -26704.981      0.123       -26741.711\n",
      "w6s10.out:  -27049.573      0.130       -27088.411\n",
      "w5s6.out:  -26711.176      0.120       -26746.822\n",
      "w6s9.out:  -27049.488      0.135       -27089.753\n",
      "w6s7.out:  -27052.128      0.130       -27090.758\n",
      "w5s7.out:  -26705.714      0.115       -26740.100\n",
      "w2s1.out:  -25668.161      0.077       -25691.234\n",
      "w6s2.out:  -27059.177      0.123       -27095.863\n",
      "w4s4.out:  -26361.056      0.116       -26395.700\n",
      "w6s18.out:  -27031.408      0.147       -27075.240\n",
      "w3s2.out:  -26016.938      0.099       -26046.364\n",
      "w6s11.out:  -27049.072      0.127       -27086.809\n",
      "w6s19.out:  -27059.605      0.127       -27097.547\n",
      "w6s5.out:  -27056.559      0.131       -27095.725\n",
      "w5s2.out:  -26722.905      0.113       -26756.606\n",
      "w5s3.out:  -26719.370      0.115       -26753.703\n",
      "w5s8.out:  -26698.493      0.132       -26737.733\n",
      "w6s17.out:  -27037.143      0.141       -27079.084\n",
      "w3s1.out:  -26028.630      0.093       -26056.486\n",
      "w6s14.out:  -27031.862      0.145       -27074.993\n",
      "w6s4.out:  -27058.529      0.125       -27095.757\n",
      "w5s1.out:  -26722.982      0.113       -26756.550\n",
      "w6s1.out:  -27061.676      0.126       -27099.293\n",
      "w5s5.out:  -26713.342      0.113       -26746.980\n",
      "w5s4.out:  -26719.393      0.116       -26753.917\n",
      "w4s2.out:  -26376.855      0.107       -26408.837\n",
      "w4s1.out:  -26380.740      0.097       -26409.611\n",
      "w6s20.out:  -27058.940      0.130       -27097.572\n",
      "w6s12.out:  -27045.479      0.138       -27086.506\n",
      "w3s3.out:  -25993.364      0.095       -26021.616\n",
      "w6s13.out:  -27042.765      0.135       -27082.944\n",
      "w6s16.out:  -27049.350      0.127       -27087.298\n",
      "w6s3.out:  -27059.083      0.136       -27099.738\n",
      "w4s3.out:  -26370.771      0.104       -26401.658\n",
      "w6s6.out:  -27054.815      0.133       -27094.556\n",
      "w6s15.out:  -27049.440      0.135       -27089.661\n",
      "w6s8.out:  -27051.003      0.136       -27091.562\n",
      "w1s1.out:  -25268.418      0.063       -25287.314\n"
     ]
    }
   ],
   "source": [
    "print('systems     H[kcal/mol]    S[kcal/mol/K]    G[kcal/mol]     T: 298.15 K')\n",
    "for file_adf in list_file_adf:\n",
    "    name_file = Path(file_adf).name\n",
    "    H_statmech = statmech[name_file].get_H(T=298.15, units='kcal/mol')\n",
    "    S_statmech = statmech[name_file].get_S(T=298.15, units='kcal/mol/K')\n",
    "    G_statmech = statmech[name_file].get_G(T=298.15, units='kcal/mol')\n",
    "    print(f\"{name_file}:  {H_statmech:.3f}      {S_statmech:.3f}       {G_statmech:.3f}\")"
   ]
  },
  {
   "cell_type": "code",
   "execution_count": 10,
   "metadata": {},
   "outputs": [],
   "source": [
    "# df_results = pd.DataFrame(columns=['system', \"H[kcal/mol]\", \"S[kcal/mol/K]\", \"G[kcal/mol]\"])\n",
    "absolute_thermochemical_results = {}\n",
    "\n",
    "for file_adf in list_file_adf:\n",
    "\n",
    "    name_file = Path(file_adf).name\n",
    "\n",
    "    absolute_thermochemical_results[name_file] = {}\n",
    "\n",
    "    thermo_data = {\n",
    "        'temperature[K]': [],\n",
    "        \"H[kcal/mol]\": [],\n",
    "        \"S[kcal/mol/K]\": [],\n",
    "        \"G[kcal/mol]\": [],\n",
    "    }\n",
    "\n",
    "    for temperature in range(1, 500, 1):\n",
    "\n",
    "        H_statmech = statmech[name_file].get_H(T=temperature, units='kcal/mol')\n",
    "        S_statmech = statmech[name_file].get_S(T=temperature, units='kcal/mol/K')\n",
    "        G_statmech = statmech[name_file].get_G(T=temperature, units='kcal/mol')\n",
    "\n",
    "        thermo_data['temperature[K]'].append(temperature)\n",
    "        thermo_data['H[kcal/mol]'].append(H_statmech)\n",
    "        thermo_data['S[kcal/mol/K]'].append(S_statmech)\n",
    "        thermo_data['G[kcal/mol]'].append(G_statmech)\n",
    "\n",
    "    absolute_thermochemical_results[name_file] = pd.DataFrame(thermo_data)\n",
    "\n",
    "if not absolute_thermochemical_results:\n",
    "    raise ValueError(\"The absolute thermochemical values of the systems does not exist.\")"
   ]
  },
  {
   "cell_type": "code",
   "execution_count": 11,
   "metadata": {},
   "outputs": [
    {
     "data": {
      "text/html": [
       "<div>\n",
       "<style scoped>\n",
       "    .dataframe tbody tr th:only-of-type {\n",
       "        vertical-align: middle;\n",
       "    }\n",
       "\n",
       "    .dataframe tbody tr th {\n",
       "        vertical-align: top;\n",
       "    }\n",
       "\n",
       "    .dataframe thead th {\n",
       "        text-align: right;\n",
       "    }\n",
       "</style>\n",
       "<table border=\"1\" class=\"dataframe\">\n",
       "  <thead>\n",
       "    <tr style=\"text-align: right;\">\n",
       "      <th></th>\n",
       "      <th>temperature[K]</th>\n",
       "      <th>H[kcal/mol]</th>\n",
       "      <th>S[kcal/mol/K]</th>\n",
       "      <th>G[kcal/mol]</th>\n",
       "    </tr>\n",
       "  </thead>\n",
       "  <tbody>\n",
       "    <tr>\n",
       "      <th>494</th>\n",
       "      <td>495</td>\n",
       "      <td>-27050.532374</td>\n",
       "      <td>0.154614</td>\n",
       "      <td>-27127.066251</td>\n",
       "    </tr>\n",
       "    <tr>\n",
       "      <th>495</th>\n",
       "      <td>496</td>\n",
       "      <td>-27050.470163</td>\n",
       "      <td>0.154739</td>\n",
       "      <td>-27127.220927</td>\n",
       "    </tr>\n",
       "    <tr>\n",
       "      <th>496</th>\n",
       "      <td>497</td>\n",
       "      <td>-27050.407901</td>\n",
       "      <td>0.154865</td>\n",
       "      <td>-27127.375730</td>\n",
       "    </tr>\n",
       "    <tr>\n",
       "      <th>497</th>\n",
       "      <td>498</td>\n",
       "      <td>-27050.345590</td>\n",
       "      <td>0.154990</td>\n",
       "      <td>-27127.530657</td>\n",
       "    </tr>\n",
       "    <tr>\n",
       "      <th>498</th>\n",
       "      <td>499</td>\n",
       "      <td>-27050.283229</td>\n",
       "      <td>0.155115</td>\n",
       "      <td>-27127.685710</td>\n",
       "    </tr>\n",
       "  </tbody>\n",
       "</table>\n",
       "</div>"
      ],
      "text/plain": [
       "     temperature[K]   H[kcal/mol]  S[kcal/mol/K]   G[kcal/mol]\n",
       "494             495 -27050.532374       0.154614 -27127.066251\n",
       "495             496 -27050.470163       0.154739 -27127.220927\n",
       "496             497 -27050.407901       0.154865 -27127.375730\n",
       "497             498 -27050.345590       0.154990 -27127.530657\n",
       "498             499 -27050.283229       0.155115 -27127.685710"
      ]
     },
     "execution_count": 11,
     "metadata": {},
     "output_type": "execute_result"
    }
   ],
   "source": [
    "absolute_thermochemical_results['w6s1.out'].tail()"
   ]
  },
  {
   "cell_type": "code",
   "execution_count": 12,
   "metadata": {},
   "outputs": [
    {
     "data": {
      "text/html": [
       "<div>\n",
       "<style scoped>\n",
       "    .dataframe tbody tr th:only-of-type {\n",
       "        vertical-align: middle;\n",
       "    }\n",
       "\n",
       "    .dataframe tbody tr th {\n",
       "        vertical-align: top;\n",
       "    }\n",
       "\n",
       "    .dataframe thead th {\n",
       "        text-align: right;\n",
       "    }\n",
       "</style>\n",
       "<table border=\"1\" class=\"dataframe\">\n",
       "  <thead>\n",
       "    <tr style=\"text-align: right;\">\n",
       "      <th></th>\n",
       "      <th>T[K]</th>\n",
       "      <th>DH[kcal/mol]</th>\n",
       "      <th>DS[kcal/mol/K]</th>\n",
       "      <th>DG[kcal/mol]</th>\n",
       "    </tr>\n",
       "  </thead>\n",
       "  <tbody>\n",
       "    <tr>\n",
       "      <th>0</th>\n",
       "      <td>1</td>\n",
       "      <td>2.067010</td>\n",
       "      <td>-0.002733</td>\n",
       "      <td>2.069743</td>\n",
       "    </tr>\n",
       "    <tr>\n",
       "      <th>1</th>\n",
       "      <td>2</td>\n",
       "      <td>2.067010</td>\n",
       "      <td>-0.002733</td>\n",
       "      <td>2.072476</td>\n",
       "    </tr>\n",
       "    <tr>\n",
       "      <th>2</th>\n",
       "      <td>3</td>\n",
       "      <td>2.067014</td>\n",
       "      <td>-0.002732</td>\n",
       "      <td>2.075209</td>\n",
       "    </tr>\n",
       "    <tr>\n",
       "      <th>3</th>\n",
       "      <td>4</td>\n",
       "      <td>2.067044</td>\n",
       "      <td>-0.002723</td>\n",
       "      <td>2.077938</td>\n",
       "    </tr>\n",
       "    <tr>\n",
       "      <th>4</th>\n",
       "      <td>5</td>\n",
       "      <td>2.067140</td>\n",
       "      <td>-0.002702</td>\n",
       "      <td>2.080651</td>\n",
       "    </tr>\n",
       "  </tbody>\n",
       "</table>\n",
       "</div>"
      ],
      "text/plain": [
       "   T[K]  DH[kcal/mol]  DS[kcal/mol/K]  DG[kcal/mol]\n",
       "0     1      2.067010       -0.002733      2.069743\n",
       "1     2      2.067010       -0.002733      2.072476\n",
       "2     3      2.067014       -0.002732      2.075209\n",
       "3     4      2.067044       -0.002723      2.077938\n",
       "4     5      2.067140       -0.002702      2.080651"
      ]
     },
     "execution_count": 12,
     "metadata": {},
     "output_type": "execute_result"
    }
   ],
   "source": [
    "thermochemical_results = absolute_thermochemical_results['w6s20.out'] - absolute_thermochemical_results['w6s1.out']\n",
    "\n",
    "thermochemical_results['temperature[K]'] = absolute_thermochemical_results['w6s1.out']['temperature[K]']\n",
    "\n",
    "thermochemical_results.rename(\n",
    "    columns={\n",
    "        'temperature[K]': 'T[K]',\n",
    "        \"H[kcal/mol]\": \"DH[kcal/mol]\",\n",
    "        \"S[kcal/mol/K]\": \"DS[kcal/mol/K]\",\n",
    "        \"G[kcal/mol]\": \"DG[kcal/mol]\",\n",
    "        }, \n",
    "    inplace=True, \n",
    "    errors='raise',\n",
    "    )\n",
    "    \n",
    "thermochemical_results.head()"
   ]
  },
  {
   "cell_type": "code",
   "execution_count": null,
   "metadata": {},
   "outputs": [
    {
     "data": {
      "text/plain": [
       "0.40502719645672675"
      ]
     },
     "execution_count": 13,
     "metadata": {},
     "output_type": "execute_result"
    }
   ],
   "source": [
    "relative_population = np.exp(-thermochemical_results['DG[kcal/mol]'] / KB_KCAL_MOL / thermochemical_results['T[K]'])\n",
    "\n",
    "relative_population.head()"
   ]
  },
  {
   "cell_type": "code",
   "execution_count": 14,
   "metadata": {},
   "outputs": [
    {
     "data": {
      "text/plain": [
       "[<matplotlib.lines.Line2D at 0x7f5bb4450fd0>]"
      ]
     },
     "execution_count": 14,
     "metadata": {},
     "output_type": "execute_result"
    },
    {
     "data": {
      "application/vnd.jupyter.widget-view+json": {
       "model_id": "ec40c7f5723846449e928e0b7b92d5e8",
       "version_major": 2,
       "version_minor": 0
      },
      "image/png": "[encoded data removed]",
      "text/html": [
       "\n",
       "            <div style=\"display: inline-block;\">\n",
       "                <div class=\"jupyter-widgets widget-label\" style=\"text-align: center;\">\n",
       "                    Figure\n",
       "                </div>\n",
       "                <img src='data:image/png;base64,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' width=600.0/>\n",
       "            </div>\n",
       "        "
      ],
      "text/plain": [
       "Canvas(toolbar=Toolbar(toolitems=[('Home', 'Reset original view', 'home', 'home'), ('Back', 'Back to previous …"
      ]
     },
     "metadata": {},
     "output_type": "display_data"
    }
   ],
   "source": [
    "fig = plt.figure(figsize=(6, 4))\n",
    "ax = fig.add_subplot(111)\n",
    "\n",
    "ax.plot(thermochemical_results['T[K]'], relative_population)"
   ]
  },
  {
   "cell_type": "code",
   "execution_count": null,
   "metadata": {},
   "outputs": [],
   "source": [
    "# thermochemical_results['w4s4.out'].plot(x='temperature', y=['H[kcal/mol]', 'S[kcal/mol/K]', 'G[kcal/mol]'], figsize=(10, 10))\n",
    "thermochemical_results['w4s4.out'].plot(x='temperature', y=['G[kcal/mol]'], figsize=(4, 4), )"
   ]
  },
  {
   "cell_type": "code",
   "execution_count": null,
   "metadata": {},
   "outputs": [],
   "source": []
  }
 ],
 "metadata": {
  "interpreter": {
   "hash": "516bc6535ab9e940184b692ec415cc529383115ebc65185761561b55cfa8146d"
  },
  "kernelspec": {
   "display_name": "Python 3.6.9 ('thermo': venv)",
   "language": "python",
   "name": "python3"
  },
  "language_info": {
   "codemirror_mode": {
    "name": "ipython",
    "version": 3
   },
   "file_extension": ".py",
   "mimetype": "text/x-python",
   "name": "python",
   "nbconvert_exporter": "python",
   "pygments_lexer": "ipython3",
   "version": "3.6.9"
  },
  "orig_nbformat": 4
 },
 "nbformat": 4,
 "nbformat_minor": 2
}
