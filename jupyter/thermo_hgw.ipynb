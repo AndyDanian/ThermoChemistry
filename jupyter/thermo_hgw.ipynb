{
 "cells": [
  {
   "cell_type": "code",
   "execution_count": 84,
   "metadata": {},
   "outputs": [],
   "source": [
    "from pathlib import Path\n",
    "from glob import glob\n",
    "\n",
    "import pandas as pd\n",
    "import numpy as np\n",
    "import matplotlib.pyplot as plt\n",
    "\n",
    "from ase import io, Atoms, Atom\n",
    "from pmutt.statmech import StatMech, trans, vib, rot, elec\n",
    "from pmutt.constants import kb, Na\n",
    "\n",
    "\n",
    "# interactive plots\n",
    "%matplotlib widget"
   ]
  },
  {
   "cell_type": "code",
   "execution_count": 51,
   "metadata": {},
   "outputs": [
    {
     "name": "stdout",
     "output_type": "stream",
     "text": [
      "0.001985875020917578\n"
     ]
    }
   ],
   "source": [
    "KB_KCAL: float = kb(\"kcal/K\")\n",
    "AVOGADRO: float = Na\n",
    "\n",
    "KB_KCAL_MOL: float = KB_KCAL * AVOGADRO\n",
    "\n",
    "print(KB_KCAL * AVOGADRO)"
   ]
  },
  {
   "cell_type": "markdown",
   "metadata": {},
   "source": [
    "## Sorted according SO-ZORA"
   ]
  },
  {
   "cell_type": "code",
   "execution_count": 8,
   "metadata": {},
   "outputs": [
    {
     "name": "stdout",
     "output_type": "stream",
     "text": [
      "/home/edison/repositories/ThermoChemistry/jupyter/../structures/sozora\n"
     ]
    }
   ],
   "source": [
    "# working_directory = Path(\"/home/danian/hg2w/calculaT/ThermoChemistry/structures\")\n",
    "working_directory = Path.cwd() / \"../structures/sozora/\"\n",
    "\n",
    "if not working_directory.exists():\n",
    "    raise ValueError(\"The working directory does not exist.\")\n",
    "\n",
    "print(working_directory)"
   ]
  },
  {
   "cell_type": "code",
   "execution_count": 9,
   "metadata": {},
   "outputs": [],
   "source": [
    "list_file_adf = glob(str(working_directory) + '/*.out')\n",
    "energies_file_adf = working_directory / ('energies.txt')\n",
    "\n",
    "if not energies_file_adf.exists():\n",
    "    raise ValueError(\"The energies file does not exist.\")\n",
    "\n",
    "if not list_file_adf:\n",
    "    raise ValueError(\"The list of ADF files does not exist.\")"
   ]
  },
  {
   "cell_type": "markdown",
   "metadata": {},
   "source": [
    "## Reading Coordinates and Frequencies from ADF.2013"
   ]
  },
  {
   "cell_type": "code",
   "execution_count": 10,
   "metadata": {},
   "outputs": [],
   "source": [
    "find_lines_adf = {}\n",
    "for file_adf in list_file_adf:\n",
    "    read_file_adf = Path(file_adf).read_text()\n",
    "\n",
    "    \"\"\" Lines to read the geometry in ADF.2013 \"\"\"\n",
    "    start_line_geom = None\n",
    "    last_line_geom = None\n",
    "    start_line_freq = None\n",
    "    last_line_freq = None\n",
    "    for count, line in enumerate(read_file_adf.split('\\n')):\n",
    "\n",
    "        if line == \"                                            *  F R E Q U E N C I E S  *\":\n",
    "            start_line_geom = count + 11\n",
    "        elif line == \" Atomic Masses:\":\n",
    "            last_line_geom = count - 4\n",
    "        elif line == \" List of All Frequencies:\":\n",
    "            start_line_freq = count + 9\n",
    "        elif line == \" Statistical Thermal Analysis  ***  ideal gas assumed  ***\":\n",
    "            last_line_freq = count - 4\n",
    "        elif start_line_geom and last_line_geom and start_line_freq and last_line_freq:\n",
    "\n",
    "            break\n",
    "    find_lines_adf[Path(file_adf).name] = [start_line_geom, last_line_geom, start_line_freq, last_line_freq]\n"
   ]
  },
  {
   "cell_type": "code",
   "execution_count": 11,
   "metadata": {},
   "outputs": [],
   "source": [
    "geoms_systems = {}\n",
    "freqs_systems = {}\n",
    "energies_systems = {}\n",
    "for file_adf in list_file_adf:\n",
    "    with open(Path(file_adf), 'r') as f_adf:\n",
    "        file_content = f_adf.readlines()\n",
    "\n",
    "        \"\"\"Atoms object with ase.Atoms\"\"\"\n",
    "        last_line_geom = find_lines_adf[Path(file_adf).name][1]\n",
    "        start_line_geom = find_lines_adf[Path(file_adf).name][0]\n",
    "        lines_geom = last_line_geom - start_line_geom\n",
    "        coord_system = []\n",
    "        for i in range(lines_geom):\n",
    "            line = file_content[start_line_geom + i].split()\n",
    "            coord_system.append(Atom(line[1], (line[5], line[6], line[7])))\n",
    "        geoms_systems[Path(file_adf).name] = Atoms(coord_system)\n",
    "\n",
    "        \"\"\"Frequencies\"\"\"\n",
    "        last_line_freq = find_lines_adf[Path(file_adf).name][3]\n",
    "        start_line_freq = find_lines_adf[Path(file_adf).name][2]\n",
    "        lines_freq = last_line_freq - start_line_freq\n",
    "        freq_system = []\n",
    "        for i in range(lines_freq):\n",
    "            line = file_content[start_line_freq + i].split()\n",
    "            if float(line[0]) > 20.0:\n",
    "                freq_system.append(float(line[0]))\n",
    "        freqs_systems[Path(file_adf).name] = freq_system\n",
    "\n",
    "    \"\"\"Energies from ADF.2013 in Ev\"\"\"\n",
    "    with open(energies_file_adf, 'r') as f_energies:\n",
    "        stop = False\n",
    "        while stop == False:\n",
    "            line = f_energies.readline().split()\n",
    "            if line[0] == Path(file_adf).with_suffix('').name:\n",
    "                energies_systems[Path(file_adf).name] = float(line[1])\n",
    "                stop = True"
   ]
  },
  {
   "cell_type": "code",
   "execution_count": 12,
   "metadata": {},
   "outputs": [],
   "source": [
    "translation = {}\n",
    "vibration = {}\n",
    "rotation = {}\n",
    "electronic = {}\n",
    "for count, file_adf in enumerate(list_file_adf):\n",
    "    name_file = Path(file_adf).name\n",
    "\n",
    "    '''Translational'''\n",
    "    translation[name_file] = trans.FreeTrans(n_degrees=3, atoms=geoms_systems[name_file])\n",
    "\n",
    "    '''Vibrational'''\n",
    "    vibration[name_file] = vib.HarmonicVib(vib_wavenumbers=freqs_systems[name_file]) #cm^-1\n",
    "\n",
    "    '''Rotational'''\n",
    "    rotation[name_file] = rot.RigidRotor(symmetrynumber=1, atoms=geoms_systems[name_file]) #simmetry point C1\n",
    "\n",
    "    '''Electronic'''\n",
    "    electronic[name_file] = elec.GroundStateElec(potentialenergy=float(energies_systems[name_file]), spin=0) #Ev\n"
   ]
  },
  {
   "cell_type": "code",
   "execution_count": 13,
   "metadata": {},
   "outputs": [],
   "source": [
    "statmech = {}\n",
    "for file_adf in list_file_adf:\n",
    "    name_file = Path(file_adf).name\n",
    "    name = Path(file_adf).with_suffix('').name\n",
    "    '''StatMech Initialization'''\n",
    "    statmech[name_file] = StatMech(name=name,\n",
    "                            trans_model=translation[name_file],\n",
    "                            vib_model=vibration[name_file],\n",
    "                            rot_model=rotation[name_file],\n",
    "                            elec_model=electronic[name_file])"
   ]
  },
  {
   "cell_type": "code",
   "execution_count": 14,
   "metadata": {},
   "outputs": [
    {
     "name": "stdout",
     "output_type": "stream",
     "text": [
      "systems     H[kcal/mol]    S[kcal/mol/K]    G[kcal/mol]     T: 298.15 K\n",
      "w4s4.out:  -26361.056      0.116       -26395.700\n",
      "w5s10.out:  -26702.474      0.124       -26739.555\n",
      "w3s1.out:  -26028.630      0.093       -26056.486\n",
      "w6s2.out:  -27059.177      0.123       -27095.863\n",
      "w3s3.out:  -25993.364      0.095       -26021.616\n",
      "w5s8.out:  -26698.493      0.132       -26737.733\n",
      "w4s2.out:  -26376.855      0.107       -26408.837\n",
      "w5s4.out:  -26719.393      0.116       -26753.917\n",
      "w2s1.out:  -25668.161      0.077       -25691.234\n",
      "w6s13.out:  -27042.765      0.135       -27082.944\n",
      "w6s10.out:  -27049.573      0.130       -27088.411\n",
      "w6s1.out:  -27061.676      0.126       -27099.293\n",
      "w4s3.out:  -26370.771      0.104       -26401.658\n",
      "w6s6.out:  -27054.815      0.133       -27094.556\n",
      "w5s7.out:  -26705.714      0.115       -26740.100\n",
      "w5s1.out:  -26722.982      0.113       -26756.550\n",
      "w4s1.out:  -26380.740      0.097       -26409.611\n",
      "w6s5.out:  -27056.559      0.131       -27095.725\n",
      "w6s7.out:  -27052.128      0.130       -27090.758\n",
      "w6s17.out:  -27037.143      0.141       -27079.084\n",
      "w6s19.out:  -27059.605      0.127       -27097.547\n",
      "w3s2.out:  -26016.938      0.099       -26046.364\n",
      "w5s3.out:  -26719.370      0.115       -26753.703\n",
      "w6s11.out:  -27049.072      0.127       -27086.809\n",
      "w6s20.out:  -27058.940      0.130       -27097.572\n",
      "w6s8.out:  -27051.003      0.136       -27091.562\n",
      "w6s14.out:  -27031.862      0.145       -27074.993\n",
      "w6s12.out:  -27045.479      0.138       -27086.506\n",
      "w5s2.out:  -26722.905      0.113       -26756.606\n",
      "w6s18.out:  -27031.408      0.147       -27075.240\n",
      "w6s9.out:  -27049.488      0.135       -27089.753\n",
      "w5s5.out:  -26713.342      0.113       -26746.980\n",
      "w5s9.out:  -26704.981      0.123       -26741.711\n",
      "w6s16.out:  -27049.350      0.127       -27087.298\n",
      "w6s3.out:  -27059.083      0.136       -27099.738\n",
      "w6s15.out:  -27049.440      0.135       -27089.661\n",
      "w6s4.out:  -27058.529      0.125       -27095.757\n",
      "w5s6.out:  -26711.176      0.120       -26746.822\n",
      "w1s1.out:  -25268.418      0.063       -25287.314\n"
     ]
    }
   ],
   "source": [
    "print('systems     H[kcal/mol]    S[kcal/mol/K]    G[kcal/mol]     T: 298.15 K')\n",
    "for file_adf in list_file_adf:\n",
    "    name_file = Path(file_adf).name\n",
    "    H_statmech = statmech[name_file].get_H(T=298.15, units='kcal/mol')\n",
    "    S_statmech = statmech[name_file].get_S(T=298.15, units='kcal/mol/K')\n",
    "    G_statmech = statmech[name_file].get_G(T=298.15, units='kcal/mol')\n",
    "    print(f\"{name_file}:  {H_statmech:.3f}      {S_statmech:.3f}       {G_statmech:.3f}\")\n",
    "    # print(f'H_w6s1(T=298.15) = {H_statmech:.3f} kcal/mol')\n",
    "    # print(f'S_w6s1(T=298.15) = {S_statmech:.3f} kcal/mol/K')\n",
    "    # print(f'G_w6s1(T=298.15) = {G_statmech:.3f} kcal/mol')"
   ]
  },
  {
   "cell_type": "code",
   "execution_count": 115,
   "metadata": {},
   "outputs": [],
   "source": [
    "initital_temperature = 1\n",
    "final_temperature = 500\n",
    "step_temperature = 1"
   ]
  },
  {
   "cell_type": "code",
   "execution_count": 152,
   "metadata": {},
   "outputs": [],
   "source": [
    "\n",
    "thermochemistry_per_temperature = {}\n",
    "\n",
    "for temperature in range(initital_temperature, final_temperature, step_temperature):\n",
    "    thermo_data = {\n",
    "        'system': [],\n",
    "        \"H[kcal/mol]\": [], \n",
    "        \"S[kcal/mol/K]\": [], \n",
    "        \"G[kcal/mol]\": [],\n",
    "    }\n",
    "\n",
    "    for file_adf in list_file_adf:\n",
    "\n",
    "        name_file = Path(file_adf).name\n",
    "\n",
    "        H_statmech = statmech[name_file].get_H(T=temperature, units='kcal/mol')\n",
    "        S_statmech = statmech[name_file].get_S(T=temperature, units='kcal/mol/K')\n",
    "        G_statmech = statmech[name_file].get_G(T=temperature, units='kcal/mol')\n",
    "\n",
    "        thermo_data['system'].append(Path(file_adf).stem)\n",
    "        thermo_data['H[kcal/mol]'].append(H_statmech)\n",
    "        thermo_data['S[kcal/mol/K]'].append(S_statmech)\n",
    "        thermo_data['G[kcal/mol]'].append(G_statmech)\n",
    "\n",
    "    thermochemistry_per_temperature[temperature] = pd.DataFrame(thermo_data).sort_values(by='system', ascending=True).reset_index(drop=True)\n"
   ]
  },
  {
   "cell_type": "code",
   "execution_count": 153,
   "metadata": {},
   "outputs": [
    {
     "data": {
      "text/html": [
       "<div>\n",
       "<style scoped>\n",
       "    .dataframe tbody tr th:only-of-type {\n",
       "        vertical-align: middle;\n",
       "    }\n",
       "\n",
       "    .dataframe tbody tr th {\n",
       "        vertical-align: top;\n",
       "    }\n",
       "\n",
       "    .dataframe thead th {\n",
       "        text-align: right;\n",
       "    }\n",
       "</style>\n",
       "<table border=\"1\" class=\"dataframe\">\n",
       "  <thead>\n",
       "    <tr style=\"text-align: right;\">\n",
       "      <th></th>\n",
       "      <th>system</th>\n",
       "      <th>H[kcal/mol]</th>\n",
       "      <th>S[kcal/mol/K]</th>\n",
       "      <th>G[kcal/mol]</th>\n",
       "    </tr>\n",
       "  </thead>\n",
       "  <tbody>\n",
       "    <tr>\n",
       "      <th>5</th>\n",
       "      <td>w4s1</td>\n",
       "      <td>-26386.324686</td>\n",
       "      <td>0.067506</td>\n",
       "      <td>-26393.075301</td>\n",
       "    </tr>\n",
       "    <tr>\n",
       "      <th>6</th>\n",
       "      <td>w4s2</td>\n",
       "      <td>-26383.064958</td>\n",
       "      <td>0.074501</td>\n",
       "      <td>-26390.515101</td>\n",
       "    </tr>\n",
       "    <tr>\n",
       "      <th>7</th>\n",
       "      <td>w4s3</td>\n",
       "      <td>-26376.871117</td>\n",
       "      <td>0.071466</td>\n",
       "      <td>-26384.017673</td>\n",
       "    </tr>\n",
       "    <tr>\n",
       "      <th>8</th>\n",
       "      <td>w4s4</td>\n",
       "      <td>-26368.036184</td>\n",
       "      <td>0.079284</td>\n",
       "      <td>-26375.964605</td>\n",
       "    </tr>\n",
       "  </tbody>\n",
       "</table>\n",
       "</div>"
      ],
      "text/plain": [
       "  system   H[kcal/mol]  S[kcal/mol/K]   G[kcal/mol]\n",
       "5   w4s1 -26386.324686       0.067506 -26393.075301\n",
       "6   w4s2 -26383.064958       0.074501 -26390.515101\n",
       "7   w4s3 -26376.871117       0.071466 -26384.017673\n",
       "8   w4s4 -26368.036184       0.079284 -26375.964605"
      ]
     },
     "execution_count": 153,
     "metadata": {},
     "output_type": "execute_result"
    }
   ],
   "source": [
    "thermochemistry_per_temperature[100][thermochemistry_per_temperature[100]['system'].str.startswith('w4s')]"
   ]
  },
  {
   "cell_type": "code",
   "execution_count": 162,
   "metadata": {},
   "outputs": [
    {
     "name": "stdout",
     "output_type": "stream",
     "text": [
      "19    9.309547e-21\n",
      "20    1.799751e-12\n",
      "21    4.677709e-12\n",
      "22    6.372976e-10\n",
      "23    8.610614e-08\n",
      "24    2.831920e-01\n",
      "25    1.186453e-12\n",
      "26    2.520497e-12\n",
      "27    2.346026e-04\n",
      "28    7.165733e-01\n",
      "29    2.118355e-19\n",
      "30    4.989948e-19\n",
      "31    2.990352e-19\n",
      "32    1.873339e-19\n",
      "33    1.081991e-18\n",
      "34    1.489269e-17\n",
      "35    3.299347e-16\n",
      "36    3.787270e-14\n",
      "37    9.494720e-14\n",
      "38    1.051353e-12\n",
      "Name: H[kcal/mol], dtype: float64\n"
     ]
    }
   ],
   "source": [
    "\n",
    "\n",
    "max_number_of_waters = 6\n",
    "\n",
    "relative_population = {}\n",
    "\n",
    "\n",
    "for temperature in range(initital_temperature, final_temperature, step_temperature):\n",
    "    for water in range(1, max_number_of_waters + 1):\n",
    "\n",
    "        reference_system = f'w{water}s1'\n",
    "\n",
    "        H_reference = float(\n",
    "            thermochemistry_per_temperature[temperature][\n",
    "            thermochemistry_per_temperature[temperature]['system'] == reference_system\n",
    "            ]['H[kcal/mol]']\n",
    "        )\n",
    "\n",
    "        H_values = thermochemistry_per_temperature[temperature][\n",
    "            thermochemistry_per_temperature[temperature]['system'].str.startswith(reference_system[:-1])\n",
    "            ]['H[kcal/mol]']\n",
    "\n",
    "\n",
    "        delta_H = H_values - H_reference \n",
    "\n",
    "        total_delta_H = np.exp(-delta_H / KB_KCAL_MOL / temperature).sum()\n",
    "\n",
    "\n",
    "        population_delta_H = np.exp(-delta_H / KB_KCAL_MOL / temperature) / total_delta_H\n",
    "\n",
    "        relative_population[reference_system[:-2]] = {\n",
    "            {temperature: population_delta_H}\n",
    "        }\n",
    "\n",
    "\n",
    "        # print(H_values)\n",
    "        print(population_delta_H)\n",
    "\n",
    "        break\n",
    "    break\n",
    "\n"
   ]
  },
  {
   "cell_type": "code",
   "execution_count": null,
   "metadata": {},
   "outputs": [],
   "source": []
  },
  {
   "cell_type": "code",
   "execution_count": null,
   "metadata": {},
   "outputs": [],
   "source": []
  },
  {
   "cell_type": "code",
   "execution_count": null,
   "metadata": {},
   "outputs": [],
   "source": []
  },
  {
   "cell_type": "code",
   "execution_count": null,
   "metadata": {},
   "outputs": [],
   "source": []
  },
  {
   "cell_type": "code",
   "execution_count": null,
   "metadata": {},
   "outputs": [],
   "source": [
    "\n",
    "    H_reference_w1s1 = thermochemistry_per_temperature[temperature][\n",
    "        thermochemistry_per_temperature[temperature]['system'] == 'w1s1'\n",
    "        ]['H[kcal/mol]']\n",
    "    H_reference_w2s1 = thermochemistry_per_temperature[temperature][\n",
    "        thermochemistry_per_temperature[temperature]['system'] == 'w2s1'\n",
    "        ]['H[kcal/mol]']\n",
    "    H_reference_w3s1 = thermochemistry_per_temperature[temperature][\n",
    "        thermochemistry_per_temperature[temperature]['system'] == 'w3s1'\n",
    "        ]['H[kcal/mol]']\n",
    "    H_reference_w4s1 = thermochemistry_per_temperature[temperature][\n",
    "        thermochemistry_per_temperature[temperature]['system'] == 'w4s1'\n",
    "        ]['H[kcal/mol]']\n",
    "    H_reference_w5s1 = thermochemistry_per_temperature[temperature][\n",
    "        thermochemistry_per_temperature[temperature]['system'] == 'w5s1'\n",
    "        ]['H[kcal/mol]']\n",
    "    H_reference_w6s1 = thermochemistry_per_temperature[temperature][\n",
    "        thermochemistry_per_temperature[temperature]['system'] == 'w6s1'\n",
    "        ]['H[kcal/mol]']\n",
    "\n",
    "\n",
    "    S_reference_w3s1 = thermochemistry_per_temperature[temperature][\n",
    "        thermochemistry_per_temperature[temperature]['system'] == 'w3s1'\n",
    "        ]['S[kcal/mol/K]']\n",
    "    S_reference_w4s1 = thermochemistry_per_temperature[temperature][\n",
    "        thermochemistry_per_temperature[temperature]['system'] == 'w4s1'\n",
    "        ]['S[kcal/mol/K]']\n",
    "    S_reference_w5s1 = thermochemistry_per_temperature[temperature][\n",
    "        thermochemistry_per_temperature[temperature]['system'] == 'w5s1'\n",
    "        ]['S[kcal/mol/K]']\n",
    "    S_reference_w6s1 = thermochemistry_per_temperature[temperature][\n",
    "        thermochemistry_per_temperature[temperature]['system'] == 'w6s1'\n",
    "        ]['S[kcal/mol/K]']\n",
    "\n",
    "    G_reference_w3s1 = thermochemistry_per_temperature[temperature][\n",
    "        thermochemistry_per_temperature[temperature]['system'] == 'w3s1'\n",
    "        ]['G[kcal/mol]']\n",
    "    G_reference_w4s1 = thermochemistry_per_temperature[temperature][\n",
    "        thermochemistry_per_temperature[temperature]['system'] == 'w4s1'\n",
    "        ]['G[kcal/mol]']\n",
    "    G_reference_w5s1 = thermochemistry_per_temperature[temperature][\n",
    "        thermochemistry_per_temperature[temperature]['system'] == 'w5s1'\n",
    "        ]['G[kcal/mol]']\n",
    "    G_reference_w6s1 = thermochemistry_per_temperature[temperature][\n",
    "        thermochemistry_per_temperature[temperature]['system'] == 'w6s1'\n",
    "        ]['G[kcal/mol]']"
   ]
  },
  {
   "cell_type": "code",
   "execution_count": null,
   "metadata": {},
   "outputs": [],
   "source": []
  },
  {
   "cell_type": "code",
   "execution_count": null,
   "metadata": {},
   "outputs": [],
   "source": []
  },
  {
   "cell_type": "code",
   "execution_count": null,
   "metadata": {},
   "outputs": [],
   "source": []
  },
  {
   "cell_type": "code",
   "execution_count": 104,
   "metadata": {},
   "outputs": [],
   "source": [
    "\n",
    "absolute_thermochemical_results = {}\n",
    "\n",
    "for file_adf in list_file_adf:\n",
    "\n",
    "    name_file = Path(file_adf).name\n",
    "\n",
    "    absolute_thermochemical_results[Path(file_adf).stem] = {}\n",
    "\n",
    "    thermo_data = {\n",
    "        'temperature[K]': [],\n",
    "        \"H[kcal/mol]\": [], \n",
    "        \"S[kcal/mol/K]\": [], \n",
    "        \"G[kcal/mol]\": [],\n",
    "    }\n",
    "\n",
    "    for temperature in range(1, 500, 1):\n",
    "\n",
    "        H_statmech = statmech[name_file].get_H(T=temperature, units='kcal/mol')\n",
    "        S_statmech = statmech[name_file].get_S(T=temperature, units='kcal/mol/K')\n",
    "        G_statmech = statmech[name_file].get_G(T=temperature, units='kcal/mol')\n",
    "\n",
    "        thermo_data['temperature[K]'].append(temperature)\n",
    "        thermo_data['H[kcal/mol]'].append(H_statmech)\n",
    "        thermo_data['S[kcal/mol/K]'].append(S_statmech)\n",
    "        thermo_data['G[kcal/mol]'].append(G_statmech)\n",
    "\n",
    "    absolute_thermochemical_results[Path(file_adf).stem] = pd.DataFrame(thermo_data)\n"
   ]
  },
  {
   "cell_type": "code",
   "execution_count": 105,
   "metadata": {},
   "outputs": [
    {
     "data": {
      "text/html": [
       "<div>\n",
       "<style scoped>\n",
       "    .dataframe tbody tr th:only-of-type {\n",
       "        vertical-align: middle;\n",
       "    }\n",
       "\n",
       "    .dataframe tbody tr th {\n",
       "        vertical-align: top;\n",
       "    }\n",
       "\n",
       "    .dataframe thead th {\n",
       "        text-align: right;\n",
       "    }\n",
       "</style>\n",
       "<table border=\"1\" class=\"dataframe\">\n",
       "  <thead>\n",
       "    <tr style=\"text-align: right;\">\n",
       "      <th></th>\n",
       "      <th>temperature[K]</th>\n",
       "      <th>H[kcal/mol]</th>\n",
       "      <th>S[kcal/mol/K]</th>\n",
       "      <th>G[kcal/mol]</th>\n",
       "    </tr>\n",
       "  </thead>\n",
       "  <tbody>\n",
       "    <tr>\n",
       "      <th>494</th>\n",
       "      <td>495</td>\n",
       "      <td>-27050.532374</td>\n",
       "      <td>0.154614</td>\n",
       "      <td>-27127.066251</td>\n",
       "    </tr>\n",
       "    <tr>\n",
       "      <th>495</th>\n",
       "      <td>496</td>\n",
       "      <td>-27050.470163</td>\n",
       "      <td>0.154739</td>\n",
       "      <td>-27127.220927</td>\n",
       "    </tr>\n",
       "    <tr>\n",
       "      <th>496</th>\n",
       "      <td>497</td>\n",
       "      <td>-27050.407901</td>\n",
       "      <td>0.154865</td>\n",
       "      <td>-27127.375730</td>\n",
       "    </tr>\n",
       "    <tr>\n",
       "      <th>497</th>\n",
       "      <td>498</td>\n",
       "      <td>-27050.345590</td>\n",
       "      <td>0.154990</td>\n",
       "      <td>-27127.530657</td>\n",
       "    </tr>\n",
       "    <tr>\n",
       "      <th>498</th>\n",
       "      <td>499</td>\n",
       "      <td>-27050.283229</td>\n",
       "      <td>0.155115</td>\n",
       "      <td>-27127.685710</td>\n",
       "    </tr>\n",
       "  </tbody>\n",
       "</table>\n",
       "</div>"
      ],
      "text/plain": [
       "     temperature[K]   H[kcal/mol]  S[kcal/mol/K]   G[kcal/mol]\n",
       "494             495 -27050.532374       0.154614 -27127.066251\n",
       "495             496 -27050.470163       0.154739 -27127.220927\n",
       "496             497 -27050.407901       0.154865 -27127.375730\n",
       "497             498 -27050.345590       0.154990 -27127.530657\n",
       "498             499 -27050.283229       0.155115 -27127.685710"
      ]
     },
     "execution_count": 105,
     "metadata": {},
     "output_type": "execute_result"
    }
   ],
   "source": [
    "absolute_thermochemical_results['w6s1'].tail()"
   ]
  },
  {
   "cell_type": "code",
   "execution_count": 70,
   "metadata": {},
   "outputs": [
    {
     "data": {
      "text/html": [
       "<div>\n",
       "<style scoped>\n",
       "    .dataframe tbody tr th:only-of-type {\n",
       "        vertical-align: middle;\n",
       "    }\n",
       "\n",
       "    .dataframe tbody tr th {\n",
       "        vertical-align: top;\n",
       "    }\n",
       "\n",
       "    .dataframe thead th {\n",
       "        text-align: right;\n",
       "    }\n",
       "</style>\n",
       "<table border=\"1\" class=\"dataframe\">\n",
       "  <thead>\n",
       "    <tr style=\"text-align: right;\">\n",
       "      <th></th>\n",
       "      <th>T[K]</th>\n",
       "      <th>DH[kcal/mol]</th>\n",
       "      <th>DS[kcal/mol/K]</th>\n",
       "      <th>DG[kcal/mol]</th>\n",
       "    </tr>\n",
       "  </thead>\n",
       "  <tbody>\n",
       "    <tr>\n",
       "      <th>0</th>\n",
       "      <td>1</td>\n",
       "      <td>2.067010</td>\n",
       "      <td>-0.002733</td>\n",
       "      <td>2.069743</td>\n",
       "    </tr>\n",
       "    <tr>\n",
       "      <th>1</th>\n",
       "      <td>2</td>\n",
       "      <td>2.067010</td>\n",
       "      <td>-0.002733</td>\n",
       "      <td>2.072476</td>\n",
       "    </tr>\n",
       "    <tr>\n",
       "      <th>2</th>\n",
       "      <td>3</td>\n",
       "      <td>2.067014</td>\n",
       "      <td>-0.002732</td>\n",
       "      <td>2.075209</td>\n",
       "    </tr>\n",
       "    <tr>\n",
       "      <th>3</th>\n",
       "      <td>4</td>\n",
       "      <td>2.067044</td>\n",
       "      <td>-0.002723</td>\n",
       "      <td>2.077938</td>\n",
       "    </tr>\n",
       "    <tr>\n",
       "      <th>4</th>\n",
       "      <td>5</td>\n",
       "      <td>2.067140</td>\n",
       "      <td>-0.002702</td>\n",
       "      <td>2.080651</td>\n",
       "    </tr>\n",
       "  </tbody>\n",
       "</table>\n",
       "</div>"
      ],
      "text/plain": [
       "   T[K]  DH[kcal/mol]  DS[kcal/mol/K]  DG[kcal/mol]\n",
       "0     1      2.067010       -0.002733      2.069743\n",
       "1     2      2.067010       -0.002733      2.072476\n",
       "2     3      2.067014       -0.002732      2.075209\n",
       "3     4      2.067044       -0.002723      2.077938\n",
       "4     5      2.067140       -0.002702      2.080651"
      ]
     },
     "execution_count": 70,
     "metadata": {},
     "output_type": "execute_result"
    }
   ],
   "source": [
    "thermochemical_results = absolute_thermochemical_results['w6s20.out'] - absolute_thermochemical_results['w6s1.out']\n",
    "\n",
    "thermochemical_results['temperature[K]'] = absolute_thermochemical_results['w6s1.out']['temperature[K]']\n",
    "\n",
    "thermochemical_results.rename(\n",
    "    columns={\n",
    "        'temperature[K]': 'T[K]',\n",
    "        \"H[kcal/mol]\": \"DH[kcal/mol]\",\n",
    "        \"S[kcal/mol/K]\": \"DS[kcal/mol/K]\",\n",
    "        \"G[kcal/mol]\": \"DG[kcal/mol]\",\n",
    "        }, \n",
    "    inplace=True, \n",
    "    errors='raise',\n",
    "    )\n",
    "    \n",
    "thermochemical_results.head()"
   ]
  },
  {
   "cell_type": "code",
   "execution_count": 76,
   "metadata": {},
   "outputs": [
    {
     "data": {
      "text/plain": [
       "0.40502719645672675"
      ]
     },
     "execution_count": 76,
     "metadata": {},
     "output_type": "execute_result"
    }
   ],
   "source": [
    "# relative_population = thermochemical_results['T[K]', 'DG[kcal/mol]'] #.apply(lambda x, y: np.exp(-y/KB_KCAL_MOL/x))\n",
    "\n",
    "relative_population = np.exp(-thermochemical_results['DG[kcal/mol]'] / KB_KCAL_MOL / thermochemical_results['T[K]'])\n",
    "\n",
    "relative_population.max()"
   ]
  },
  {
   "cell_type": "code",
   "execution_count": 87,
   "metadata": {},
   "outputs": [
    {
     "data": {
      "text/plain": [
       "[<matplotlib.lines.Line2D at 0x7f8d2ba86430>]"
      ]
     },
     "execution_count": 87,
     "metadata": {},
     "output_type": "execute_result"
    },
    {
     "data": {
      "application/vnd.jupyter.widget-view+json": {
       "model_id": "fd715398350d4a26908c98c82a64ba75",
       "version_major": 2,
       "version_minor": 0
      },
      "image/png": "[encoded data removed]",
      "text/html": [
       "\n",
       "            <div style=\"display: inline-block;\">\n",
       "                <div class=\"jupyter-widgets widget-label\" style=\"text-align: center;\">\n",
       "                    Figure\n",
       "                </div>\n",
       "                <img src='data:image/png;base64,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' width=600.0/>\n",
       "            </div>\n",
       "        "
      ],
      "text/plain": [
       "Canvas(toolbar=Toolbar(toolitems=[('Home', 'Reset original view', 'home', 'home'), ('Back', 'Back to previous …"
      ]
     },
     "metadata": {},
     "output_type": "display_data"
    }
   ],
   "source": [
    "fig = plt.figure(figsize=(6, 4))\n",
    "ax = fig.add_subplot(111)\n",
    "\n",
    "ax.plot(thermochemical_results['T[K]'], relative_population)"
   ]
  },
  {
   "cell_type": "code",
   "execution_count": 27,
   "metadata": {},
   "outputs": [
    {
     "data": {
      "text/plain": [
       "<AxesSubplot:xlabel='temperature'>"
      ]
     },
     "execution_count": 27,
     "metadata": {},
     "output_type": "execute_result"
    },
    {
     "data": {
      "application/vnd.jupyter.widget-view+json": {
       "model_id": "58685a557f0f42fb96283f128dd97719",
       "version_major": 2,
       "version_minor": 0
      },
      "image/png": "[encoded data removed]",
      "text/html": [
       "\n",
       "            <div style=\"display: inline-block;\">\n",
       "                <div class=\"jupyter-widgets widget-label\" style=\"text-align: center;\">\n",
       "                    Figure\n",
       "                </div>\n",
       "                <img src='data:image/png;base64,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' width=400.0/>\n",
       "            </div>\n",
       "        "
      ],
      "text/plain": [
       "Canvas(toolbar=Toolbar(toolitems=[('Home', 'Reset original view', 'home', 'home'), ('Back', 'Back to previous …"
      ]
     },
     "metadata": {},
     "output_type": "display_data"
    }
   ],
   "source": [
    "# thermochemical_results['w4s4.out'].plot(x='temperature', y=['H[kcal/mol]', 'S[kcal/mol/K]', 'G[kcal/mol]'], figsize=(10, 10))\n",
    "thermochemical_results['w4s4.out'].plot(x='temperature', y=['G[kcal/mol]'], figsize=(4, 4), )"
   ]
  },
  {
   "cell_type": "code",
   "execution_count": null,
   "metadata": {},
   "outputs": [],
   "source": []
  }
 ],
 "metadata": {
  "interpreter": {
   "hash": "516bc6535ab9e940184b692ec415cc529383115ebc65185761561b55cfa8146d"
  },
  "kernelspec": {
   "display_name": "Python 3.6.9 ('thermo': venv)",
   "language": "python",
   "name": "python3"
  },
  "language_info": {
   "codemirror_mode": {
    "name": "ipython",
    "version": 3
   },
   "file_extension": ".py",
   "mimetype": "text/x-python",
   "name": "python",
   "nbconvert_exporter": "python",
   "pygments_lexer": "ipython3",
   "version": "3.6.9"
  },
  "orig_nbformat": 4
 },
 "nbformat": 4,
 "nbformat_minor": 2
}
