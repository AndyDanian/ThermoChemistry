{
 "cells": [
  {
   "cell_type": "code",
   "execution_count": 11,
   "metadata": {},
   "outputs": [],
   "source": [
    "from pathlib import Path\n",
    "from glob import glob\n",
    "\n",
    "import pandas as pd\n",
    "import numpy as np\n",
    "\n",
    "from ase import io, Atoms, Atom\n",
    "from pmutt.statmech import StatMech, trans, vib, rot, elec\n",
    "\n",
    "# interactive plots\n",
    "%matplotlib widget"
   ]
  },
  {
   "cell_type": "markdown",
   "metadata": {},
   "source": [
    "## Sorted according SO-ZORA"
   ]
  },
  {
   "cell_type": "code",
   "execution_count": 21,
   "metadata": {},
   "outputs": [],
   "source": [
    "working_directory = Path(\"/home/danian/hg2w/calculaT/ThermoChemistry/structures\")"
   ]
  },
  {
   "cell_type": "code",
   "execution_count": 23,
   "metadata": {},
   "outputs": [],
   "source": [
    "list_file_adf = glob(str(working_directory / 'sozora') + '/*.out')\n",
    "energies_file_adf = working_directory / ('sozora/energies.txt')"
   ]
  },
  {
   "cell_type": "markdown",
   "metadata": {},
   "source": [
    "## Reading Coordinates and Frequencies from ADF.2013"
   ]
  },
  {
   "cell_type": "code",
   "execution_count": 24,
   "metadata": {},
   "outputs": [],
   "source": [
    "find_lines_adf = {}\n",
    "for file_adf in list_file_adf:\n",
    "    read_file_adf = Path(file_adf).read_text()\n",
    "\n",
    "    \"\"\" Lines to read the geometry in ADF.2013 \"\"\"\n",
    "    start_line_geom = None\n",
    "    last_line_geom = None\n",
    "    start_line_freq = None\n",
    "    last_line_freq = None\n",
    "    for count, line in enumerate(read_file_adf.split('\\n')):\n",
    "\n",
    "        if line == \"                                            *  F R E Q U E N C I E S  *\":\n",
    "            start_line_geom = count + 11\n",
    "        elif line == \" Atomic Masses:\":\n",
    "            last_line_geom = count - 4\n",
    "        elif line == \" List of All Frequencies:\":\n",
    "            start_line_freq = count + 9\n",
    "        elif line == \" Statistical Thermal Analysis  ***  ideal gas assumed  ***\":\n",
    "            last_line_freq = count - 4\n",
    "        elif start_line_geom and last_line_geom and start_line_freq and last_line_freq:\n",
    "\n",
    "            break\n",
    "    find_lines_adf[Path(file_adf).name] = [start_line_geom, last_line_geom, start_line_freq, last_line_freq]\n"
   ]
  },
  {
   "cell_type": "code",
   "execution_count": 25,
   "metadata": {},
   "outputs": [],
   "source": [
    "geoms_systems = {}\n",
    "freqs_systems = {}\n",
    "for file_adf in list_file_adf:\n",
    "    with open(Path(file_adf), 'r') as f_adf:\n",
    "        file_content = f_adf.readlines()\n",
    "\n",
    "        \"\"\"Atoms object with ase.Atoms\"\"\"\n",
    "        last_line_geom = find_lines_adf[Path(file_adf).name][1]\n",
    "        start_line_geom = find_lines_adf[Path(file_adf).name][0]\n",
    "        lines_geom = last_line_geom - start_line_geom\n",
    "        coord_system = []\n",
    "        for i in range(lines_geom):\n",
    "            line = file_content[start_line_geom + i].split()\n",
    "            coord_system.append(Atom(line[1], (line[5], line[6], line[7])))\n",
    "        geoms_systems[Path(file_adf).name] = Atoms(coord_system)\n",
    "\n",
    "        \"\"\"Frequencies\"\"\"\n",
    "        last_line_freq = find_lines_adf[Path(file_adf).name][3]\n",
    "        start_line_freq = find_lines_adf[Path(file_adf).name][2]\n",
    "        lines_freq = last_line_freq - start_line_freq\n",
    "        freq_system = []\n",
    "        for i in range(lines_freq):\n",
    "            line = file_content[start_line_freq + i].split()\n",
    "            if float(line[0]) > 20.0:\n",
    "                freq_system.append(float(line[0]))\n",
    "        freqs_systems[Path(file_adf).name] = freq_system"
   ]
  },
  {
   "cell_type": "code",
   "execution_count": null,
   "metadata": {},
   "outputs": [],
   "source": [
    "translation = {}\n",
    "vibration = {}\n",
    "rotation = {}\n",
    "electronic = {}\n",
    "energies = open(energies_file_adf, 'r').readlines()\n",
    "for count, file_adf in enumerate(list_file_adf):\n",
    "    name_file = Path(file_adf).name\n",
    "\n",
    "    '''Translational'''\n",
    "    translation[name_file] = trans.FreeTrans(n_degrees=3, atoms=geoms_systems[name_file])\n",
    "\n",
    "    '''Vibrational'''\n",
    "    vibration[name_file] = vib.HarmonicVib(vib_wavenumbers=freqs_systems[name_file]) #cm^-1\n",
    "\n",
    "    '''Rotational'''\n",
    "    rotation[name_file] = rot.RigidRotor(symmetrynumber=1, atoms=geoms_systems[name_file]) #simmetry point C1\n",
    "\n",
    "    '''Electronic'''\n",
    "    electronic[name_file] = elec.GroundStateElec(potentialenergy=energies[count], spin=0) #Ev\n",
    "\n",
    "energies.close()"
   ]
  },
  {
   "cell_type": "code",
   "execution_count": null,
   "metadata": {},
   "outputs": [],
   "source": [
    "statmech = {}\n",
    "for file_adf in list_file_adf:\n",
    "    name_file = Path(file_adf).name\n",
    "\n",
    "    '''StatMech Initialization'''\n",
    "    statmech[name_file] = StatMech(name= name_file.with_suffix(''),\n",
    "                            trans_model=translation[name_file],\n",
    "                            vib_model=vibration[name_file],\n",
    "                            rot_model=rotation[name_file],\n",
    "                            elec_model=electronic[name_file])"
   ]
  },
  {
   "cell_type": "code",
   "execution_count": null,
   "metadata": {},
   "outputs": [],
   "source": [
    "print('systems   H[kcal/mol]    S[kcal/mol/K]    G[kcal/mol]     T: 298.15 K')\n",
    "for file_adf in list_file_adf:\n",
    "    name_file = Path(file_adf).name\n",
    "    H_statmech = statmech[name_file].get_H(T=298.15, units='kcal/mol')\n",
    "    S_statmech = statmech[name_file].get_S(T=298.15, units='kcal/mol/K')\n",
    "    G_statmech = statmech[name_file].get_G(T=298.15, units='kcal/mol')\n",
    "    print(f\"{name_file.with_suffix('')}, {H_statmech:.3f}, {S_statmech}:.3f, {G_statmech}:.3f\")\n",
    "    # print(f'H_w6s1(T=298.15) = {H_statmech:.3f} kcal/mol')\n",
    "    # print(f'S_w6s1(T=298.15) = {S_statmech:.3f} kcal/mol/K')\n",
    "    # print(f'G_w6s1(T=298.15) = {G_statmech:.3f} kcal/mol')"
   ]
  }
 ],
 "metadata": {
  "interpreter": {
   "hash": "516bc6535ab9e940184b692ec415cc529383115ebc65185761561b55cfa8146d"
  },
  "kernelspec": {
   "display_name": "Python 3.6.9 ('thermo': venv)",
   "language": "python",
   "name": "python3"
  },
  "language_info": {
   "codemirror_mode": {
    "name": "ipython",
    "version": 3
   },
   "file_extension": ".py",
   "mimetype": "text/x-python",
   "name": "python",
   "nbconvert_exporter": "python",
   "pygments_lexer": "ipython3",
   "version": "3.6.9"
  },
  "orig_nbformat": 4
 },
 "nbformat": 4,
 "nbformat_minor": 2
}
